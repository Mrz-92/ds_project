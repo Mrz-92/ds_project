{
 "cells": [
  {
   "cell_type": "markdown",
   "metadata": {
    "id": "rNy1U4mXZi5C"
   },
   "source": [
    "# **Forecasting Global University Rankings: A Data-Driven Predictive Model for Evaluating Future Performance**\n",
    "\n",
    "**Mid Report Submission**\n",
    "\n",
    "**Course Title & Code:**  Data Science (CS 8339)\n",
    "\n",
    "**Group Members:**\n",
    "1.\tEngr. Priha Bhatti\tFA23-PHCS-0001\n",
    "2.\tErum Mumtaz\tSP22-PHCS-0003\n",
    "3.\tMirza Shaharyar Ali Baig\tFA22-MSCS-0037\n",
    "\n"
   ]
  },
  {
   "cell_type": "markdown",
   "metadata": {
    "id": "tn7IUqnsg8_H"
   },
   "source": [
    "**Description and Objectives of Project**\n",
    "\n",
    "Domain Name: Education/Academics (University)-Global University Ranking: Our Project work is related to academics where we are going to predict the ranking of the World's top universities with respect to some attributes.\n",
    "By getting insights into business questions according to applying different models we get answers from data and create a complete outcome or report in the form of a dashboard.\n"
   ]
  },
  {
   "cell_type": "markdown",
   "metadata": {
    "id": "e20B4G09hSS_"
   },
   "source": [
    "**About Dataset**\n",
    "The World University Rankings 2023 dataset include 1,799 universities across 104 countries and regions, making them the largest and most diverse university rankings to date. The table is based on 13 carefully calibrated performance indicators that measure an institution’s performance across four areas: teaching, research, knowledge transfer and international outlook. This year’s ranking analyzed over 121 million citations across more than 15.5 million research publications and included survey responses from 40,000 scholars globally. Overall, we collected over 680,000 datapoints from more than 2,500 institutions that submitted data.\n",
    "\n",
    "**Features**\n",
    "This dataset includes the following 13 features:\n",
    "1)University Rank\n",
    "2)Name of University\n",
    "3)Location\n",
    "4)No of student\n",
    "5)No of student per staff\n",
    "6)International Student\n",
    "7)Female :Male Ratio\n",
    "8)OverAll Score\n",
    "9)Teaching Score\n",
    "10)Research Score\n",
    "11)Citations Score\n",
    "12)Industry Income Score\n",
    "13)International Outlook Score\n"
   ]
  },
  {
   "cell_type": "markdown",
   "metadata": {
    "id": "bhnafmpNz4le"
   },
   "source": [
    "•\tName of University:\n",
    "\n",
    "This attribute refers to the name or title of the university, identifying each institution uniquely within the dataset. For instance, \"Harvard University,\" \"University of Oxford,\" etc.\n",
    "\n",
    "•\tLocation:\n",
    "\n",
    "It signifies the geographic location or address of the university. This could include details such as city, state, and country where the university is situated.\n",
    "\n",
    "•\tNumber of Students:\n",
    "\n",
    "This attribute typically represents the total count of enrolled students at the university. It provides the overall student population or enrollment figure for a given period.\n",
    "\n",
    "•\tNumber of Students per Staff:\n",
    "\n",
    "This metric represents the ratio of students to academic or administrative staff members at the university. It provides an insight into the student-to-faculty ratio, indicating how many students are managed per staff member.\n",
    "\n",
    "•\tInternational Students:\n",
    "\n",
    "This attribute denotes the count or percentage of students at the university who come from countries other than the one where the university is located. It signifies the diversity and internationalization of the student body.\n",
    "\n",
    "•\tFemale to Male Ratio:\n",
    "\n",
    "This figure represents the proportion or ratio of female students to male students at the university. For example, a ratio of 1:1 would signify an equal number of male and female students.\n",
    "\n",
    "•\tOverall Score:\n",
    "\n",
    "This is an aggregated score that reflects the overall performance or ranking of the university. It's usually a comprehensive score derived from various individual metrics.\n",
    "\n",
    "•\tTeaching Score:\n",
    "\n",
    "This metric assesses the quality of teaching and the educational experience provided by the university. It could include teaching methodologies, student satisfaction, and educational resources.\n",
    "\n",
    "•\tResearch Score:\n",
    "\n",
    "This score indicates the university's excellence and output in research activities, such as publications, patents, research grants, etc.\n",
    "\n",
    "•\tCitations Score:\n",
    "\n",
    "This score relates to the impact of the university's research by measuring how often its academic work is cited by others in scholarly publications.\n",
    "\n",
    "•\tIndustry Income Score:\n",
    "\n",
    " This metric signifies the university's ability to generate income through industry partnerships, research collaborations, or commercialization of research.\n",
    "\n",
    "•\tInternational Outlook Score:\n",
    "\n",
    "This score evaluates the global outlook and international collaboration of the university, considering factors like international partnerships, student exchange programs, and global engagement.\n",
    "\n",
    "These attributes collectively provide comprehensive insights into various aspects of universities, including their academic performance, student demographics, international diversity, and overall standing in the global academic landscape.\n"
   ]
  },
  {
   "cell_type": "markdown",
   "metadata": {
    "id": "dHlNGxpzhi8A"
   },
   "source": [
    "# **1. Exploratory Data Analysis**\n",
    "\n",
    "**1.1 Import Necessary Libraries**\n",
    "\n"
   ]
  },
  {
   "cell_type": "code",
   "execution_count": 251,
   "metadata": {
    "executionInfo": {
     "elapsed": 547,
     "status": "ok",
     "timestamp": 1701597353642,
     "user": {
      "displayName": "PRIHA BHATTI",
      "userId": "17593611182648033997"
     },
     "user_tz": -300
    },
    "id": "6wMMDdBfjwSy"
   },
   "outputs": [],
   "source": [
    "import numpy as np # linear algebra\n",
    "import pandas as pd # data processing, CSV file I/O (e.g. pd.read_csv)\n",
    "import matplotlib.pyplot as plt#a cross-platform, data visualization and graphical plotting library (histograms, scatter plots, bar charts, etc) for Python and its numerical extension NumPy\n",
    "import seaborn as sns#a Python data visualization library based on matplotlib\n"
   ]
  },
  {
   "cell_type": "markdown",
   "metadata": {
    "id": "0cXVFdIblnln"
   },
   "source": [
    "**1.2 Load The Dataset**"
   ]
  },
  {
   "cell_type": "code",
   "execution_count": 252,
   "metadata": {
    "colab": {
     "base_uri": "https://localhost:8080/",
     "height": 382
    },
    "executionInfo": {
     "elapsed": 42,
     "status": "ok",
     "timestamp": 1701597353643,
     "user": {
      "displayName": "PRIHA BHATTI",
      "userId": "17593611182648033997"
     },
     "user_tz": -300
    },
    "id": "zcZ4V1_oltyy",
    "outputId": "6518274a-8053-4655-8446-6a2ecc8ab93b"
   },
   "outputs": [
    {
     "data": {
      "text/html": [
       "\n",
       "  <div id=\"df-e3e1685c-2bba-4016-99ea-3f2c2a7d0b5e\" class=\"colab-df-container\">\n",
       "    <div>\n",
       "<style scoped>\n",
       "    .dataframe tbody tr th:only-of-type {\n",
       "        vertical-align: middle;\n",
       "    }\n",
       "\n",
       "    .dataframe tbody tr th {\n",
       "        vertical-align: top;\n",
       "    }\n",
       "\n",
       "    .dataframe thead th {\n",
       "        text-align: right;\n",
       "    }\n",
       "</style>\n",
       "<table border=\"1\" class=\"dataframe\">\n",
       "  <thead>\n",
       "    <tr style=\"text-align: right;\">\n",
       "      <th></th>\n",
       "      <th>University Rank</th>\n",
       "      <th>Name of University</th>\n",
       "      <th>Location</th>\n",
       "      <th>No of student</th>\n",
       "      <th>No of student per staff</th>\n",
       "      <th>International Student</th>\n",
       "      <th>Female:Male Ratio</th>\n",
       "      <th>OverAll Score</th>\n",
       "      <th>Teaching Score</th>\n",
       "      <th>Research Score</th>\n",
       "      <th>Citations Score</th>\n",
       "      <th>Industry Income Score</th>\n",
       "      <th>International Outlook Score</th>\n",
       "    </tr>\n",
       "  </thead>\n",
       "  <tbody>\n",
       "    <tr>\n",
       "      <th>0</th>\n",
       "      <td>1</td>\n",
       "      <td>University of Oxford</td>\n",
       "      <td>United Kingdom</td>\n",
       "      <td>20,965</td>\n",
       "      <td>10.6</td>\n",
       "      <td>42%</td>\n",
       "      <td>48 : 52</td>\n",
       "      <td>96.4</td>\n",
       "      <td>92.3</td>\n",
       "      <td>99.7</td>\n",
       "      <td>99.0</td>\n",
       "      <td>74.9</td>\n",
       "      <td>96.2</td>\n",
       "    </tr>\n",
       "    <tr>\n",
       "      <th>1</th>\n",
       "      <td>2</td>\n",
       "      <td>Harvard University</td>\n",
       "      <td>United States</td>\n",
       "      <td>21,887</td>\n",
       "      <td>9.6</td>\n",
       "      <td>25%</td>\n",
       "      <td>50 : 50</td>\n",
       "      <td>95.2</td>\n",
       "      <td>94.8</td>\n",
       "      <td>99.0</td>\n",
       "      <td>99.3</td>\n",
       "      <td>49.5</td>\n",
       "      <td>80.5</td>\n",
       "    </tr>\n",
       "    <tr>\n",
       "      <th>2</th>\n",
       "      <td>3</td>\n",
       "      <td>University of Cambridge</td>\n",
       "      <td>United Kingdom</td>\n",
       "      <td>20,185</td>\n",
       "      <td>11.3</td>\n",
       "      <td>39%</td>\n",
       "      <td>47 : 53</td>\n",
       "      <td>94.8</td>\n",
       "      <td>90.9</td>\n",
       "      <td>99.5</td>\n",
       "      <td>97.0</td>\n",
       "      <td>54.2</td>\n",
       "      <td>95.8</td>\n",
       "    </tr>\n",
       "    <tr>\n",
       "      <th>3</th>\n",
       "      <td>3</td>\n",
       "      <td>Stanford University</td>\n",
       "      <td>United States</td>\n",
       "      <td>16,164</td>\n",
       "      <td>7.1</td>\n",
       "      <td>24%</td>\n",
       "      <td>46 : 54</td>\n",
       "      <td>94.8</td>\n",
       "      <td>94.2</td>\n",
       "      <td>96.7</td>\n",
       "      <td>99.8</td>\n",
       "      <td>65.0</td>\n",
       "      <td>79.8</td>\n",
       "    </tr>\n",
       "    <tr>\n",
       "      <th>4</th>\n",
       "      <td>5</td>\n",
       "      <td>Massachusetts Institute of Technology</td>\n",
       "      <td>United States</td>\n",
       "      <td>11,415</td>\n",
       "      <td>8.2</td>\n",
       "      <td>33%</td>\n",
       "      <td>40 : 60</td>\n",
       "      <td>94.2</td>\n",
       "      <td>90.7</td>\n",
       "      <td>93.6</td>\n",
       "      <td>99.8</td>\n",
       "      <td>90.9</td>\n",
       "      <td>89.3</td>\n",
       "    </tr>\n",
       "  </tbody>\n",
       "</table>\n",
       "</div>\n",
       "    <div class=\"colab-df-buttons\">\n",
       "\n",
       "  <div class=\"colab-df-container\">\n",
       "    <button class=\"colab-df-convert\" onclick=\"convertToInteractive('df-e3e1685c-2bba-4016-99ea-3f2c2a7d0b5e')\"\n",
       "            title=\"Convert this dataframe to an interactive table.\"\n",
       "            style=\"display:none;\">\n",
       "\n",
       "  <svg xmlns=\"http://www.w3.org/2000/svg\" height=\"24px\" viewBox=\"0 -960 960 960\">\n",
       "    <path d=\"M120-120v-720h720v720H120Zm60-500h600v-160H180v160Zm220 220h160v-160H400v160Zm0 220h160v-160H400v160ZM180-400h160v-160H180v160Zm440 0h160v-160H620v160ZM180-180h160v-160H180v160Zm440 0h160v-160H620v160Z\"/>\n",
       "  </svg>\n",
       "    </button>\n",
       "\n",
       "  <style>\n",
       "    .colab-df-container {\n",
       "      display:flex;\n",
       "      gap: 12px;\n",
       "    }\n",
       "\n",
       "    .colab-df-convert {\n",
       "      background-color: #E8F0FE;\n",
       "      border: none;\n",
       "      border-radius: 50%;\n",
       "      cursor: pointer;\n",
       "      display: none;\n",
       "      fill: #1967D2;\n",
       "      height: 32px;\n",
       "      padding: 0 0 0 0;\n",
       "      width: 32px;\n",
       "    }\n",
       "\n",
       "    .colab-df-convert:hover {\n",
       "      background-color: #E2EBFA;\n",
       "      box-shadow: 0px 1px 2px rgba(60, 64, 67, 0.3), 0px 1px 3px 1px rgba(60, 64, 67, 0.15);\n",
       "      fill: #174EA6;\n",
       "    }\n",
       "\n",
       "    .colab-df-buttons div {\n",
       "      margin-bottom: 4px;\n",
       "    }\n",
       "\n",
       "    [theme=dark] .colab-df-convert {\n",
       "      background-color: #3B4455;\n",
       "      fill: #D2E3FC;\n",
       "    }\n",
       "\n",
       "    [theme=dark] .colab-df-convert:hover {\n",
       "      background-color: #434B5C;\n",
       "      box-shadow: 0px 1px 3px 1px rgba(0, 0, 0, 0.15);\n",
       "      filter: drop-shadow(0px 1px 2px rgba(0, 0, 0, 0.3));\n",
       "      fill: #FFFFFF;\n",
       "    }\n",
       "  </style>\n",
       "\n",
       "    <script>\n",
       "      const buttonEl =\n",
       "        document.querySelector('#df-e3e1685c-2bba-4016-99ea-3f2c2a7d0b5e button.colab-df-convert');\n",
       "      buttonEl.style.display =\n",
       "        google.colab.kernel.accessAllowed ? 'block' : 'none';\n",
       "\n",
       "      async function convertToInteractive(key) {\n",
       "        const element = document.querySelector('#df-e3e1685c-2bba-4016-99ea-3f2c2a7d0b5e');\n",
       "        const dataTable =\n",
       "          await google.colab.kernel.invokeFunction('convertToInteractive',\n",
       "                                                    [key], {});\n",
       "        if (!dataTable) return;\n",
       "\n",
       "        const docLinkHtml = 'Like what you see? Visit the ' +\n",
       "          '<a target=\"_blank\" href=https://colab.research.google.com/notebooks/data_table.ipynb>data table notebook</a>'\n",
       "          + ' to learn more about interactive tables.';\n",
       "        element.innerHTML = '';\n",
       "        dataTable['output_type'] = 'display_data';\n",
       "        await google.colab.output.renderOutput(dataTable, element);\n",
       "        const docLink = document.createElement('div');\n",
       "        docLink.innerHTML = docLinkHtml;\n",
       "        element.appendChild(docLink);\n",
       "      }\n",
       "    </script>\n",
       "  </div>\n",
       "\n",
       "\n",
       "<div id=\"df-0bc051fb-86be-4e02-9b9c-37a25bfb0530\">\n",
       "  <button class=\"colab-df-quickchart\" onclick=\"quickchart('df-0bc051fb-86be-4e02-9b9c-37a25bfb0530')\"\n",
       "            title=\"Suggest charts\"\n",
       "            style=\"display:none;\">\n",
       "\n",
       "<svg xmlns=\"http://www.w3.org/2000/svg\" height=\"24px\"viewBox=\"0 0 24 24\"\n",
       "     width=\"24px\">\n",
       "    <g>\n",
       "        <path d=\"M19 3H5c-1.1 0-2 .9-2 2v14c0 1.1.9 2 2 2h14c1.1 0 2-.9 2-2V5c0-1.1-.9-2-2-2zM9 17H7v-7h2v7zm4 0h-2V7h2v10zm4 0h-2v-4h2v4z\"/>\n",
       "    </g>\n",
       "</svg>\n",
       "  </button>\n",
       "\n",
       "<style>\n",
       "  .colab-df-quickchart {\n",
       "      --bg-color: #E8F0FE;\n",
       "      --fill-color: #1967D2;\n",
       "      --hover-bg-color: #E2EBFA;\n",
       "      --hover-fill-color: #174EA6;\n",
       "      --disabled-fill-color: #AAA;\n",
       "      --disabled-bg-color: #DDD;\n",
       "  }\n",
       "\n",
       "  [theme=dark] .colab-df-quickchart {\n",
       "      --bg-color: #3B4455;\n",
       "      --fill-color: #D2E3FC;\n",
       "      --hover-bg-color: #434B5C;\n",
       "      --hover-fill-color: #FFFFFF;\n",
       "      --disabled-bg-color: #3B4455;\n",
       "      --disabled-fill-color: #666;\n",
       "  }\n",
       "\n",
       "  .colab-df-quickchart {\n",
       "    background-color: var(--bg-color);\n",
       "    border: none;\n",
       "    border-radius: 50%;\n",
       "    cursor: pointer;\n",
       "    display: none;\n",
       "    fill: var(--fill-color);\n",
       "    height: 32px;\n",
       "    padding: 0;\n",
       "    width: 32px;\n",
       "  }\n",
       "\n",
       "  .colab-df-quickchart:hover {\n",
       "    background-color: var(--hover-bg-color);\n",
       "    box-shadow: 0 1px 2px rgba(60, 64, 67, 0.3), 0 1px 3px 1px rgba(60, 64, 67, 0.15);\n",
       "    fill: var(--button-hover-fill-color);\n",
       "  }\n",
       "\n",
       "  .colab-df-quickchart-complete:disabled,\n",
       "  .colab-df-quickchart-complete:disabled:hover {\n",
       "    background-color: var(--disabled-bg-color);\n",
       "    fill: var(--disabled-fill-color);\n",
       "    box-shadow: none;\n",
       "  }\n",
       "\n",
       "  .colab-df-spinner {\n",
       "    border: 2px solid var(--fill-color);\n",
       "    border-color: transparent;\n",
       "    border-bottom-color: var(--fill-color);\n",
       "    animation:\n",
       "      spin 1s steps(1) infinite;\n",
       "  }\n",
       "\n",
       "  @keyframes spin {\n",
       "    0% {\n",
       "      border-color: transparent;\n",
       "      border-bottom-color: var(--fill-color);\n",
       "      border-left-color: var(--fill-color);\n",
       "    }\n",
       "    20% {\n",
       "      border-color: transparent;\n",
       "      border-left-color: var(--fill-color);\n",
       "      border-top-color: var(--fill-color);\n",
       "    }\n",
       "    30% {\n",
       "      border-color: transparent;\n",
       "      border-left-color: var(--fill-color);\n",
       "      border-top-color: var(--fill-color);\n",
       "      border-right-color: var(--fill-color);\n",
       "    }\n",
       "    40% {\n",
       "      border-color: transparent;\n",
       "      border-right-color: var(--fill-color);\n",
       "      border-top-color: var(--fill-color);\n",
       "    }\n",
       "    60% {\n",
       "      border-color: transparent;\n",
       "      border-right-color: var(--fill-color);\n",
       "    }\n",
       "    80% {\n",
       "      border-color: transparent;\n",
       "      border-right-color: var(--fill-color);\n",
       "      border-bottom-color: var(--fill-color);\n",
       "    }\n",
       "    90% {\n",
       "      border-color: transparent;\n",
       "      border-bottom-color: var(--fill-color);\n",
       "    }\n",
       "  }\n",
       "</style>\n",
       "\n",
       "  <script>\n",
       "    async function quickchart(key) {\n",
       "      const quickchartButtonEl =\n",
       "        document.querySelector('#' + key + ' button');\n",
       "      quickchartButtonEl.disabled = true;  // To prevent multiple clicks.\n",
       "      quickchartButtonEl.classList.add('colab-df-spinner');\n",
       "      try {\n",
       "        const charts = await google.colab.kernel.invokeFunction(\n",
       "            'suggestCharts', [key], {});\n",
       "      } catch (error) {\n",
       "        console.error('Error during call to suggestCharts:', error);\n",
       "      }\n",
       "      quickchartButtonEl.classList.remove('colab-df-spinner');\n",
       "      quickchartButtonEl.classList.add('colab-df-quickchart-complete');\n",
       "    }\n",
       "    (() => {\n",
       "      let quickchartButtonEl =\n",
       "        document.querySelector('#df-0bc051fb-86be-4e02-9b9c-37a25bfb0530 button');\n",
       "      quickchartButtonEl.style.display =\n",
       "        google.colab.kernel.accessAllowed ? 'block' : 'none';\n",
       "    })();\n",
       "  </script>\n",
       "</div>\n",
       "    </div>\n",
       "  </div>\n"
      ],
      "text/plain": [
       "  University Rank                     Name of University        Location  \\\n",
       "0               1                   University of Oxford  United Kingdom   \n",
       "1               2                     Harvard University   United States   \n",
       "2               3                University of Cambridge  United Kingdom   \n",
       "3               3                    Stanford University   United States   \n",
       "4               5  Massachusetts Institute of Technology   United States   \n",
       "\n",
       "  No of student  No of student per staff International Student  \\\n",
       "0        20,965                     10.6                   42%   \n",
       "1        21,887                      9.6                   25%   \n",
       "2        20,185                     11.3                   39%   \n",
       "3        16,164                      7.1                   24%   \n",
       "4        11,415                      8.2                   33%   \n",
       "\n",
       "  Female:Male Ratio OverAll Score  Teaching Score  Research Score  \\\n",
       "0           48 : 52          96.4            92.3            99.7   \n",
       "1           50 : 50          95.2            94.8            99.0   \n",
       "2           47 : 53          94.8            90.9            99.5   \n",
       "3           46 : 54          94.8            94.2            96.7   \n",
       "4           40 : 60          94.2            90.7            93.6   \n",
       "\n",
       "   Citations Score  Industry Income Score  International Outlook Score  \n",
       "0             99.0                   74.9                         96.2  \n",
       "1             99.3                   49.5                         80.5  \n",
       "2             97.0                   54.2                         95.8  \n",
       "3             99.8                   65.0                         79.8  \n",
       "4             99.8                   90.9                         89.3  "
      ]
     },
     "execution_count": 252,
     "metadata": {},
     "output_type": "execute_result"
    }
   ],
   "source": [
    "# Loading the dataset into a pandas DataFrame\n",
    "data = pd.read_csv(\"/content/drive/MyDrive/World University Rankings 2023.csv\")\n",
    "\n",
    "# Displaying the first few rows of the dataset to get an overview\n",
    "data.head()\n"
   ]
  },
  {
   "cell_type": "code",
   "execution_count": 253,
   "metadata": {
    "colab": {
     "base_uri": "https://localhost:8080/"
    },
    "executionInfo": {
     "elapsed": 39,
     "status": "ok",
     "timestamp": 1701597353643,
     "user": {
      "displayName": "PRIHA BHATTI",
      "userId": "17593611182648033997"
     },
     "user_tz": -300
    },
    "id": "P1EdfYMjoaqF",
    "outputId": "3d45ce72-4180-4c99-9ae5-8b9ea3dbb23c"
   },
   "outputs": [
    {
     "data": {
      "text/plain": [
       "13"
      ]
     },
     "execution_count": 253,
     "metadata": {},
     "output_type": "execute_result"
    }
   ],
   "source": [
    "data.columns # checks the features of Dataset\n",
    "len(data.columns)"
   ]
  },
  {
   "cell_type": "markdown",
   "metadata": {
    "id": "s-IGBO2NmiuU"
   },
   "source": [
    "**1.3 Descriptive Statistics**\n",
    "\n",
    "This code calculates statistical measures such as mean, median, standard deviation, and range for each numerical column present in the dataset."
   ]
  },
  {
   "cell_type": "code",
   "execution_count": 254,
   "metadata": {
    "colab": {
     "base_uri": "https://localhost:8080/",
     "height": 300
    },
    "executionInfo": {
     "elapsed": 37,
     "status": "ok",
     "timestamp": 1701597353643,
     "user": {
      "displayName": "PRIHA BHATTI",
      "userId": "17593611182648033997"
     },
     "user_tz": -300
    },
    "id": "bhpSZBDQmzaE",
    "outputId": "bffa8681-a530-44d2-aeee-1e6d5efc4a3e"
   },
   "outputs": [
    {
     "data": {
      "text/html": [
       "\n",
       "  <div id=\"df-77d767d9-8a9f-4827-b468-6c8c3691aae5\" class=\"colab-df-container\">\n",
       "    <div>\n",
       "<style scoped>\n",
       "    .dataframe tbody tr th:only-of-type {\n",
       "        vertical-align: middle;\n",
       "    }\n",
       "\n",
       "    .dataframe tbody tr th {\n",
       "        vertical-align: top;\n",
       "    }\n",
       "\n",
       "    .dataframe thead th {\n",
       "        text-align: right;\n",
       "    }\n",
       "</style>\n",
       "<table border=\"1\" class=\"dataframe\">\n",
       "  <thead>\n",
       "    <tr style=\"text-align: right;\">\n",
       "      <th></th>\n",
       "      <th>No of student per staff</th>\n",
       "      <th>Teaching Score</th>\n",
       "      <th>Research Score</th>\n",
       "      <th>Citations Score</th>\n",
       "      <th>Industry Income Score</th>\n",
       "      <th>International Outlook Score</th>\n",
       "    </tr>\n",
       "  </thead>\n",
       "  <tbody>\n",
       "    <tr>\n",
       "      <th>count</th>\n",
       "      <td>2208.000000</td>\n",
       "      <td>1799.000000</td>\n",
       "      <td>1799.000000</td>\n",
       "      <td>1799.000000</td>\n",
       "      <td>1799.000000</td>\n",
       "      <td>1799.000000</td>\n",
       "    </tr>\n",
       "    <tr>\n",
       "      <th>mean</th>\n",
       "      <td>19.000408</td>\n",
       "      <td>27.018010</td>\n",
       "      <td>23.016898</td>\n",
       "      <td>48.495887</td>\n",
       "      <td>47.104558</td>\n",
       "      <td>46.880378</td>\n",
       "    </tr>\n",
       "    <tr>\n",
       "      <th>std</th>\n",
       "      <td>12.132224</td>\n",
       "      <td>13.282243</td>\n",
       "      <td>16.763819</td>\n",
       "      <td>27.967185</td>\n",
       "      <td>15.093682</td>\n",
       "      <td>22.582401</td>\n",
       "    </tr>\n",
       "    <tr>\n",
       "      <th>min</th>\n",
       "      <td>0.400000</td>\n",
       "      <td>11.600000</td>\n",
       "      <td>7.400000</td>\n",
       "      <td>0.800000</td>\n",
       "      <td>36.900000</td>\n",
       "      <td>14.100000</td>\n",
       "    </tr>\n",
       "    <tr>\n",
       "      <th>25%</th>\n",
       "      <td>12.600000</td>\n",
       "      <td>18.000000</td>\n",
       "      <td>11.300000</td>\n",
       "      <td>23.100000</td>\n",
       "      <td>37.800000</td>\n",
       "      <td>27.900000</td>\n",
       "    </tr>\n",
       "    <tr>\n",
       "      <th>50%</th>\n",
       "      <td>16.600000</td>\n",
       "      <td>22.700000</td>\n",
       "      <td>17.000000</td>\n",
       "      <td>47.200000</td>\n",
       "      <td>40.500000</td>\n",
       "      <td>42.100000</td>\n",
       "    </tr>\n",
       "    <tr>\n",
       "      <th>75%</th>\n",
       "      <td>22.200000</td>\n",
       "      <td>31.850000</td>\n",
       "      <td>28.900000</td>\n",
       "      <td>72.350000</td>\n",
       "      <td>48.300000</td>\n",
       "      <td>62.100000</td>\n",
       "    </tr>\n",
       "    <tr>\n",
       "      <th>max</th>\n",
       "      <td>232.200000</td>\n",
       "      <td>94.800000</td>\n",
       "      <td>99.700000</td>\n",
       "      <td>100.000000</td>\n",
       "      <td>100.000000</td>\n",
       "      <td>99.700000</td>\n",
       "    </tr>\n",
       "  </tbody>\n",
       "</table>\n",
       "</div>\n",
       "    <div class=\"colab-df-buttons\">\n",
       "\n",
       "  <div class=\"colab-df-container\">\n",
       "    <button class=\"colab-df-convert\" onclick=\"convertToInteractive('df-77d767d9-8a9f-4827-b468-6c8c3691aae5')\"\n",
       "            title=\"Convert this dataframe to an interactive table.\"\n",
       "            style=\"display:none;\">\n",
       "\n",
       "  <svg xmlns=\"http://www.w3.org/2000/svg\" height=\"24px\" viewBox=\"0 -960 960 960\">\n",
       "    <path d=\"M120-120v-720h720v720H120Zm60-500h600v-160H180v160Zm220 220h160v-160H400v160Zm0 220h160v-160H400v160ZM180-400h160v-160H180v160Zm440 0h160v-160H620v160ZM180-180h160v-160H180v160Zm440 0h160v-160H620v160Z\"/>\n",
       "  </svg>\n",
       "    </button>\n",
       "\n",
       "  <style>\n",
       "    .colab-df-container {\n",
       "      display:flex;\n",
       "      gap: 12px;\n",
       "    }\n",
       "\n",
       "    .colab-df-convert {\n",
       "      background-color: #E8F0FE;\n",
       "      border: none;\n",
       "      border-radius: 50%;\n",
       "      cursor: pointer;\n",
       "      display: none;\n",
       "      fill: #1967D2;\n",
       "      height: 32px;\n",
       "      padding: 0 0 0 0;\n",
       "      width: 32px;\n",
       "    }\n",
       "\n",
       "    .colab-df-convert:hover {\n",
       "      background-color: #E2EBFA;\n",
       "      box-shadow: 0px 1px 2px rgba(60, 64, 67, 0.3), 0px 1px 3px 1px rgba(60, 64, 67, 0.15);\n",
       "      fill: #174EA6;\n",
       "    }\n",
       "\n",
       "    .colab-df-buttons div {\n",
       "      margin-bottom: 4px;\n",
       "    }\n",
       "\n",
       "    [theme=dark] .colab-df-convert {\n",
       "      background-color: #3B4455;\n",
       "      fill: #D2E3FC;\n",
       "    }\n",
       "\n",
       "    [theme=dark] .colab-df-convert:hover {\n",
       "      background-color: #434B5C;\n",
       "      box-shadow: 0px 1px 3px 1px rgba(0, 0, 0, 0.15);\n",
       "      filter: drop-shadow(0px 1px 2px rgba(0, 0, 0, 0.3));\n",
       "      fill: #FFFFFF;\n",
       "    }\n",
       "  </style>\n",
       "\n",
       "    <script>\n",
       "      const buttonEl =\n",
       "        document.querySelector('#df-77d767d9-8a9f-4827-b468-6c8c3691aae5 button.colab-df-convert');\n",
       "      buttonEl.style.display =\n",
       "        google.colab.kernel.accessAllowed ? 'block' : 'none';\n",
       "\n",
       "      async function convertToInteractive(key) {\n",
       "        const element = document.querySelector('#df-77d767d9-8a9f-4827-b468-6c8c3691aae5');\n",
       "        const dataTable =\n",
       "          await google.colab.kernel.invokeFunction('convertToInteractive',\n",
       "                                                    [key], {});\n",
       "        if (!dataTable) return;\n",
       "\n",
       "        const docLinkHtml = 'Like what you see? Visit the ' +\n",
       "          '<a target=\"_blank\" href=https://colab.research.google.com/notebooks/data_table.ipynb>data table notebook</a>'\n",
       "          + ' to learn more about interactive tables.';\n",
       "        element.innerHTML = '';\n",
       "        dataTable['output_type'] = 'display_data';\n",
       "        await google.colab.output.renderOutput(dataTable, element);\n",
       "        const docLink = document.createElement('div');\n",
       "        docLink.innerHTML = docLinkHtml;\n",
       "        element.appendChild(docLink);\n",
       "      }\n",
       "    </script>\n",
       "  </div>\n",
       "\n",
       "\n",
       "<div id=\"df-168aac18-8d09-4c0a-802b-6be426e94b98\">\n",
       "  <button class=\"colab-df-quickchart\" onclick=\"quickchart('df-168aac18-8d09-4c0a-802b-6be426e94b98')\"\n",
       "            title=\"Suggest charts\"\n",
       "            style=\"display:none;\">\n",
       "\n",
       "<svg xmlns=\"http://www.w3.org/2000/svg\" height=\"24px\"viewBox=\"0 0 24 24\"\n",
       "     width=\"24px\">\n",
       "    <g>\n",
       "        <path d=\"M19 3H5c-1.1 0-2 .9-2 2v14c0 1.1.9 2 2 2h14c1.1 0 2-.9 2-2V5c0-1.1-.9-2-2-2zM9 17H7v-7h2v7zm4 0h-2V7h2v10zm4 0h-2v-4h2v4z\"/>\n",
       "    </g>\n",
       "</svg>\n",
       "  </button>\n",
       "\n",
       "<style>\n",
       "  .colab-df-quickchart {\n",
       "      --bg-color: #E8F0FE;\n",
       "      --fill-color: #1967D2;\n",
       "      --hover-bg-color: #E2EBFA;\n",
       "      --hover-fill-color: #174EA6;\n",
       "      --disabled-fill-color: #AAA;\n",
       "      --disabled-bg-color: #DDD;\n",
       "  }\n",
       "\n",
       "  [theme=dark] .colab-df-quickchart {\n",
       "      --bg-color: #3B4455;\n",
       "      --fill-color: #D2E3FC;\n",
       "      --hover-bg-color: #434B5C;\n",
       "      --hover-fill-color: #FFFFFF;\n",
       "      --disabled-bg-color: #3B4455;\n",
       "      --disabled-fill-color: #666;\n",
       "  }\n",
       "\n",
       "  .colab-df-quickchart {\n",
       "    background-color: var(--bg-color);\n",
       "    border: none;\n",
       "    border-radius: 50%;\n",
       "    cursor: pointer;\n",
       "    display: none;\n",
       "    fill: var(--fill-color);\n",
       "    height: 32px;\n",
       "    padding: 0;\n",
       "    width: 32px;\n",
       "  }\n",
       "\n",
       "  .colab-df-quickchart:hover {\n",
       "    background-color: var(--hover-bg-color);\n",
       "    box-shadow: 0 1px 2px rgba(60, 64, 67, 0.3), 0 1px 3px 1px rgba(60, 64, 67, 0.15);\n",
       "    fill: var(--button-hover-fill-color);\n",
       "  }\n",
       "\n",
       "  .colab-df-quickchart-complete:disabled,\n",
       "  .colab-df-quickchart-complete:disabled:hover {\n",
       "    background-color: var(--disabled-bg-color);\n",
       "    fill: var(--disabled-fill-color);\n",
       "    box-shadow: none;\n",
       "  }\n",
       "\n",
       "  .colab-df-spinner {\n",
       "    border: 2px solid var(--fill-color);\n",
       "    border-color: transparent;\n",
       "    border-bottom-color: var(--fill-color);\n",
       "    animation:\n",
       "      spin 1s steps(1) infinite;\n",
       "  }\n",
       "\n",
       "  @keyframes spin {\n",
       "    0% {\n",
       "      border-color: transparent;\n",
       "      border-bottom-color: var(--fill-color);\n",
       "      border-left-color: var(--fill-color);\n",
       "    }\n",
       "    20% {\n",
       "      border-color: transparent;\n",
       "      border-left-color: var(--fill-color);\n",
       "      border-top-color: var(--fill-color);\n",
       "    }\n",
       "    30% {\n",
       "      border-color: transparent;\n",
       "      border-left-color: var(--fill-color);\n",
       "      border-top-color: var(--fill-color);\n",
       "      border-right-color: var(--fill-color);\n",
       "    }\n",
       "    40% {\n",
       "      border-color: transparent;\n",
       "      border-right-color: var(--fill-color);\n",
       "      border-top-color: var(--fill-color);\n",
       "    }\n",
       "    60% {\n",
       "      border-color: transparent;\n",
       "      border-right-color: var(--fill-color);\n",
       "    }\n",
       "    80% {\n",
       "      border-color: transparent;\n",
       "      border-right-color: var(--fill-color);\n",
       "      border-bottom-color: var(--fill-color);\n",
       "    }\n",
       "    90% {\n",
       "      border-color: transparent;\n",
       "      border-bottom-color: var(--fill-color);\n",
       "    }\n",
       "  }\n",
       "</style>\n",
       "\n",
       "  <script>\n",
       "    async function quickchart(key) {\n",
       "      const quickchartButtonEl =\n",
       "        document.querySelector('#' + key + ' button');\n",
       "      quickchartButtonEl.disabled = true;  // To prevent multiple clicks.\n",
       "      quickchartButtonEl.classList.add('colab-df-spinner');\n",
       "      try {\n",
       "        const charts = await google.colab.kernel.invokeFunction(\n",
       "            'suggestCharts', [key], {});\n",
       "      } catch (error) {\n",
       "        console.error('Error during call to suggestCharts:', error);\n",
       "      }\n",
       "      quickchartButtonEl.classList.remove('colab-df-spinner');\n",
       "      quickchartButtonEl.classList.add('colab-df-quickchart-complete');\n",
       "    }\n",
       "    (() => {\n",
       "      let quickchartButtonEl =\n",
       "        document.querySelector('#df-168aac18-8d09-4c0a-802b-6be426e94b98 button');\n",
       "      quickchartButtonEl.style.display =\n",
       "        google.colab.kernel.accessAllowed ? 'block' : 'none';\n",
       "    })();\n",
       "  </script>\n",
       "</div>\n",
       "    </div>\n",
       "  </div>\n"
      ],
      "text/plain": [
       "       No of student per staff  Teaching Score  Research Score  \\\n",
       "count              2208.000000     1799.000000     1799.000000   \n",
       "mean                 19.000408       27.018010       23.016898   \n",
       "std                  12.132224       13.282243       16.763819   \n",
       "min                   0.400000       11.600000        7.400000   \n",
       "25%                  12.600000       18.000000       11.300000   \n",
       "50%                  16.600000       22.700000       17.000000   \n",
       "75%                  22.200000       31.850000       28.900000   \n",
       "max                 232.200000       94.800000       99.700000   \n",
       "\n",
       "       Citations Score  Industry Income Score  International Outlook Score  \n",
       "count      1799.000000            1799.000000                  1799.000000  \n",
       "mean         48.495887              47.104558                    46.880378  \n",
       "std          27.967185              15.093682                    22.582401  \n",
       "min           0.800000              36.900000                    14.100000  \n",
       "25%          23.100000              37.800000                    27.900000  \n",
       "50%          47.200000              40.500000                    42.100000  \n",
       "75%          72.350000              48.300000                    62.100000  \n",
       "max         100.000000             100.000000                    99.700000  "
      ]
     },
     "execution_count": 254,
     "metadata": {},
     "output_type": "execute_result"
    }
   ],
   "source": [
    "# Obtaining descriptive statistics for the dataset\n",
    "desc_stats = data.describe()\n",
    "\n",
    "# Displaying the descriptive statistics\n",
    "desc_stats"
   ]
  },
  {
   "cell_type": "markdown",
   "metadata": {
    "id": "i71NzA12niyN"
   },
   "source": [
    "# **2. Data Preprocessing**\n",
    "**Data Exploration**\n",
    "Data exploration involves analyzing and visualizing data to understand its structure, patterns, and relationships. Here are some common techniques and tools used for data exploration:\n",
    "\n",
    "Sure, here are the key points in bullet format:\n",
    "\n",
    "Summary Statistics:\n",
    "\n",
    "Use describe() for numerical columns.\n",
    "\n",
    "Data Types and Missing Values:\n",
    "\n",
    "Utilize info() to get data types and missing value information.\n",
    "\n",
    "Histograms:\n",
    "\n",
    "Visualize numerical variable distributions with histograms.\n",
    "\n",
    "Box Plots:\n",
    "\n",
    "Identify outliers and assess data spread using box plots.\n",
    "\n",
    "Correlation Analysis:\n",
    "\n",
    "Explore relationships with correlation matrices and heatmaps.\n",
    "\n",
    "Pair Plots:\n",
    "\n",
    "Visualize relationships among multiple numerical variables.\n",
    "\n",
    "Value Counts:\n",
    "\n",
    "Understand the distribution of categorical variables using value_counts().\n",
    "\n",
    "Bar Charts:\n",
    "\n",
    "Create bar charts to visualize categorical variable distributions.\n",
    "\n",
    "Scatter Plots:\n",
    "\n",
    "Explore relationships between two numerical variables.\n",
    "\n",
    "Heatmaps:\n",
    "\n",
    "Visualize patterns and relationships in a matrix of numerical data.\n",
    "\n",
    "Data exploration is an iterative process involving these techniques to gain insights, identify patterns, and inform subsequent steps in data analysis or modeling."
   ]
  },
  {
   "cell_type": "code",
   "execution_count": 255,
   "metadata": {
    "colab": {
     "base_uri": "https://localhost:8080/"
    },
    "executionInfo": {
     "elapsed": 35,
     "status": "ok",
     "timestamp": 1701597353643,
     "user": {
      "displayName": "PRIHA BHATTI",
      "userId": "17593611182648033997"
     },
     "user_tz": -300
    },
    "id": "XUi80MJdpbxI",
    "outputId": "7373ff0a-9d51-47de-a611-3b84cfea1261"
   },
   "outputs": [
    {
     "data": {
      "text/plain": [
       "University Rank                  0\n",
       "Name of University             108\n",
       "Location                       294\n",
       "No of student                  132\n",
       "No of student per staff        133\n",
       "International Student          132\n",
       "Female:Male Ratio              213\n",
       "OverAll Score                  542\n",
       "Teaching Score                 542\n",
       "Research Score                 542\n",
       "Citations Score                542\n",
       "Industry Income Score          542\n",
       "International Outlook Score    542\n",
       "dtype: int64"
      ]
     },
     "execution_count": 255,
     "metadata": {},
     "output_type": "execute_result"
    }
   ],
   "source": [
    "data.isna().sum()#computes the sum of missing values for each column in the dataset named 'data'."
   ]
  },
  {
   "cell_type": "code",
   "execution_count": 256,
   "metadata": {
    "colab": {
     "base_uri": "https://localhost:8080/"
    },
    "executionInfo": {
     "elapsed": 33,
     "status": "ok",
     "timestamp": 1701597353644,
     "user": {
      "displayName": "PRIHA BHATTI",
      "userId": "17593611182648033997"
     },
     "user_tz": -300
    },
    "id": "dr0g17F9pyve",
    "outputId": "40eec1bc-6eb3-40c5-8658-174d1a5b466b"
   },
   "outputs": [
    {
     "name": "stdout",
     "output_type": "stream",
     "text": [
      "University Rank                 object\n",
      "Name of University              object\n",
      "Location                        object\n",
      "No of student                   object\n",
      "No of student per staff        float64\n",
      "International Student           object\n",
      "Female:Male Ratio               object\n",
      "OverAll Score                   object\n",
      "Teaching Score                 float64\n",
      "Research Score                 float64\n",
      "Citations Score                float64\n",
      "Industry Income Score          float64\n",
      "International Outlook Score    float64\n",
      "dtype: object\n"
     ]
    }
   ],
   "source": [
    "\n",
    "print(data.dtypes)#outputs the data types of each column in the dataset named 'data'."
   ]
  },
  {
   "cell_type": "code",
   "execution_count": 257,
   "metadata": {
    "colab": {
     "base_uri": "https://localhost:8080/"
    },
    "executionInfo": {
     "elapsed": 30,
     "status": "ok",
     "timestamp": 1701597353644,
     "user": {
      "displayName": "PRIHA BHATTI",
      "userId": "17593611182648033997"
     },
     "user_tz": -300
    },
    "id": "dwriekt6qzM0",
    "outputId": "a6150d37-2d7a-42be-a9a6-0989ec5b1be0"
   },
   "outputs": [
    {
     "name": "stdout",
     "output_type": "stream",
     "text": [
      "<class 'pandas.core.frame.DataFrame'>\n",
      "RangeIndex: 2341 entries, 0 to 2340\n",
      "Data columns (total 13 columns):\n",
      " #   Column                       Non-Null Count  Dtype  \n",
      "---  ------                       --------------  -----  \n",
      " 0   University Rank              2341 non-null   object \n",
      " 1   Name of University           2233 non-null   object \n",
      " 2   Location                     2047 non-null   object \n",
      " 3   No of student                2209 non-null   object \n",
      " 4   No of student per staff      2208 non-null   float64\n",
      " 5   International Student        2209 non-null   object \n",
      " 6   Female:Male Ratio            2128 non-null   object \n",
      " 7   OverAll Score                1799 non-null   object \n",
      " 8   Teaching Score               1799 non-null   float64\n",
      " 9   Research Score               1799 non-null   float64\n",
      " 10  Citations Score              1799 non-null   float64\n",
      " 11  Industry Income Score        1799 non-null   float64\n",
      " 12  International Outlook Score  1799 non-null   float64\n",
      "dtypes: float64(6), object(7)\n",
      "memory usage: 237.9+ KB\n"
     ]
    }
   ],
   "source": [
    "data.info()#provides a concise summary of the information about the dataset 'data', including the data types, non-null counts, and memory usage."
   ]
  },
  {
   "cell_type": "code",
   "execution_count": 258,
   "metadata": {
    "colab": {
     "base_uri": "https://localhost:8080/"
    },
    "executionInfo": {
     "elapsed": 29,
     "status": "ok",
     "timestamp": 1701597353645,
     "user": {
      "displayName": "PRIHA BHATTI",
      "userId": "17593611182648033997"
     },
     "user_tz": -300
    },
    "id": "RY3qR151rBuU",
    "outputId": "226a8140-ffdc-456c-d117-4c9631d9ae01"
   },
   "outputs": [
    {
     "data": {
      "text/plain": [
       "(2341, 13)"
      ]
     },
     "execution_count": 258,
     "metadata": {},
     "output_type": "execute_result"
    }
   ],
   "source": [
    "data.shape#returns a tuple representing the dimensions of the dataset 'data', where the first element is the number of rows and the second element is the number of columns."
   ]
  },
  {
   "cell_type": "code",
   "execution_count": 259,
   "metadata": {
    "executionInfo": {
     "elapsed": 26,
     "status": "ok",
     "timestamp": 1701597353645,
     "user": {
      "displayName": "PRIHA BHATTI",
      "userId": "17593611182648033997"
     },
     "user_tz": -300
    },
    "id": "rDpalYA0rPQ8"
   },
   "outputs": [],
   "source": [
    "#data.describe().T#transposes the summary statistics generated by the describe() method for the dataset 'data', providing a more readable format where statistics are presented for each column in rows."
   ]
  },
  {
   "cell_type": "code",
   "execution_count": 260,
   "metadata": {
    "executionInfo": {
     "elapsed": 26,
     "status": "ok",
     "timestamp": 1701597353646,
     "user": {
      "displayName": "PRIHA BHATTI",
      "userId": "17593611182648033997"
     },
     "user_tz": -300
    },
    "id": "9BRoJdJNsZrZ"
   },
   "outputs": [],
   "source": [
    "#data.describe(include = 'object').T#generates summary statistics for columns with object data type in the dataset 'data', providing information such as count, unique, top, and frequency for each of those columns in a transposed format for better readability."
   ]
  },
  {
   "cell_type": "code",
   "execution_count": 261,
   "metadata": {
    "colab": {
     "base_uri": "https://localhost:8080/",
     "height": 1000
    },
    "executionInfo": {
     "elapsed": 26,
     "status": "ok",
     "timestamp": 1701597353646,
     "user": {
      "displayName": "PRIHA BHATTI",
      "userId": "17593611182648033997"
     },
     "user_tz": -300
    },
    "id": "GtcpjCp5s9-Y",
    "outputId": "ccccbc32-01a0-4f40-bae6-0f9e7b1402a4"
   },
   "outputs": [
    {
     "name": "stdout",
     "output_type": "stream",
     "text": [
      "Number of duplicate rows: 29\n"
     ]
    },
    {
     "data": {
      "text/html": [
       "\n",
       "  <div id=\"df-72856339-92b9-4f0e-93d2-27db66e862e5\" class=\"colab-df-container\">\n",
       "    <div>\n",
       "<style scoped>\n",
       "    .dataframe tbody tr th:only-of-type {\n",
       "        vertical-align: middle;\n",
       "    }\n",
       "\n",
       "    .dataframe tbody tr th {\n",
       "        vertical-align: top;\n",
       "    }\n",
       "\n",
       "    .dataframe thead th {\n",
       "        text-align: right;\n",
       "    }\n",
       "</style>\n",
       "<table border=\"1\" class=\"dataframe\">\n",
       "  <thead>\n",
       "    <tr style=\"text-align: right;\">\n",
       "      <th></th>\n",
       "      <th>University Rank</th>\n",
       "      <th>Name of University</th>\n",
       "      <th>Location</th>\n",
       "      <th>No of student</th>\n",
       "      <th>No of student per staff</th>\n",
       "      <th>International Student</th>\n",
       "      <th>Female:Male Ratio</th>\n",
       "      <th>OverAll Score</th>\n",
       "      <th>Teaching Score</th>\n",
       "      <th>Research Score</th>\n",
       "      <th>Citations Score</th>\n",
       "      <th>Industry Income Score</th>\n",
       "      <th>International Outlook Score</th>\n",
       "    </tr>\n",
       "  </thead>\n",
       "  <tbody>\n",
       "    <tr>\n",
       "      <th>2288</th>\n",
       "      <td>-</td>\n",
       "      <td>NaN</td>\n",
       "      <td>NaN</td>\n",
       "      <td>NaN</td>\n",
       "      <td>NaN</td>\n",
       "      <td>NaN</td>\n",
       "      <td>NaN</td>\n",
       "      <td>NaN</td>\n",
       "      <td>NaN</td>\n",
       "      <td>NaN</td>\n",
       "      <td>NaN</td>\n",
       "      <td>NaN</td>\n",
       "      <td>NaN</td>\n",
       "    </tr>\n",
       "    <tr>\n",
       "      <th>2289</th>\n",
       "      <td>-</td>\n",
       "      <td>NaN</td>\n",
       "      <td>NaN</td>\n",
       "      <td>NaN</td>\n",
       "      <td>NaN</td>\n",
       "      <td>NaN</td>\n",
       "      <td>NaN</td>\n",
       "      <td>NaN</td>\n",
       "      <td>NaN</td>\n",
       "      <td>NaN</td>\n",
       "      <td>NaN</td>\n",
       "      <td>NaN</td>\n",
       "      <td>NaN</td>\n",
       "    </tr>\n",
       "    <tr>\n",
       "      <th>2290</th>\n",
       "      <td>-</td>\n",
       "      <td>NaN</td>\n",
       "      <td>NaN</td>\n",
       "      <td>NaN</td>\n",
       "      <td>NaN</td>\n",
       "      <td>NaN</td>\n",
       "      <td>NaN</td>\n",
       "      <td>NaN</td>\n",
       "      <td>NaN</td>\n",
       "      <td>NaN</td>\n",
       "      <td>NaN</td>\n",
       "      <td>NaN</td>\n",
       "      <td>NaN</td>\n",
       "    </tr>\n",
       "    <tr>\n",
       "      <th>2291</th>\n",
       "      <td>-</td>\n",
       "      <td>NaN</td>\n",
       "      <td>NaN</td>\n",
       "      <td>NaN</td>\n",
       "      <td>NaN</td>\n",
       "      <td>NaN</td>\n",
       "      <td>NaN</td>\n",
       "      <td>NaN</td>\n",
       "      <td>NaN</td>\n",
       "      <td>NaN</td>\n",
       "      <td>NaN</td>\n",
       "      <td>NaN</td>\n",
       "      <td>NaN</td>\n",
       "    </tr>\n",
       "    <tr>\n",
       "      <th>2292</th>\n",
       "      <td>-</td>\n",
       "      <td>NaN</td>\n",
       "      <td>NaN</td>\n",
       "      <td>NaN</td>\n",
       "      <td>NaN</td>\n",
       "      <td>NaN</td>\n",
       "      <td>NaN</td>\n",
       "      <td>NaN</td>\n",
       "      <td>NaN</td>\n",
       "      <td>NaN</td>\n",
       "      <td>NaN</td>\n",
       "      <td>NaN</td>\n",
       "      <td>NaN</td>\n",
       "    </tr>\n",
       "    <tr>\n",
       "      <th>2293</th>\n",
       "      <td>-</td>\n",
       "      <td>NaN</td>\n",
       "      <td>NaN</td>\n",
       "      <td>NaN</td>\n",
       "      <td>NaN</td>\n",
       "      <td>NaN</td>\n",
       "      <td>NaN</td>\n",
       "      <td>NaN</td>\n",
       "      <td>NaN</td>\n",
       "      <td>NaN</td>\n",
       "      <td>NaN</td>\n",
       "      <td>NaN</td>\n",
       "      <td>NaN</td>\n",
       "    </tr>\n",
       "    <tr>\n",
       "      <th>2294</th>\n",
       "      <td>-</td>\n",
       "      <td>NaN</td>\n",
       "      <td>NaN</td>\n",
       "      <td>NaN</td>\n",
       "      <td>NaN</td>\n",
       "      <td>NaN</td>\n",
       "      <td>NaN</td>\n",
       "      <td>NaN</td>\n",
       "      <td>NaN</td>\n",
       "      <td>NaN</td>\n",
       "      <td>NaN</td>\n",
       "      <td>NaN</td>\n",
       "      <td>NaN</td>\n",
       "    </tr>\n",
       "    <tr>\n",
       "      <th>2295</th>\n",
       "      <td>-</td>\n",
       "      <td>NaN</td>\n",
       "      <td>NaN</td>\n",
       "      <td>NaN</td>\n",
       "      <td>NaN</td>\n",
       "      <td>NaN</td>\n",
       "      <td>NaN</td>\n",
       "      <td>NaN</td>\n",
       "      <td>NaN</td>\n",
       "      <td>NaN</td>\n",
       "      <td>NaN</td>\n",
       "      <td>NaN</td>\n",
       "      <td>NaN</td>\n",
       "    </tr>\n",
       "    <tr>\n",
       "      <th>2296</th>\n",
       "      <td>-</td>\n",
       "      <td>NaN</td>\n",
       "      <td>NaN</td>\n",
       "      <td>NaN</td>\n",
       "      <td>NaN</td>\n",
       "      <td>NaN</td>\n",
       "      <td>NaN</td>\n",
       "      <td>NaN</td>\n",
       "      <td>NaN</td>\n",
       "      <td>NaN</td>\n",
       "      <td>NaN</td>\n",
       "      <td>NaN</td>\n",
       "      <td>NaN</td>\n",
       "    </tr>\n",
       "    <tr>\n",
       "      <th>2297</th>\n",
       "      <td>-</td>\n",
       "      <td>NaN</td>\n",
       "      <td>NaN</td>\n",
       "      <td>NaN</td>\n",
       "      <td>NaN</td>\n",
       "      <td>NaN</td>\n",
       "      <td>NaN</td>\n",
       "      <td>NaN</td>\n",
       "      <td>NaN</td>\n",
       "      <td>NaN</td>\n",
       "      <td>NaN</td>\n",
       "      <td>NaN</td>\n",
       "      <td>NaN</td>\n",
       "    </tr>\n",
       "    <tr>\n",
       "      <th>2298</th>\n",
       "      <td>-</td>\n",
       "      <td>NaN</td>\n",
       "      <td>NaN</td>\n",
       "      <td>NaN</td>\n",
       "      <td>NaN</td>\n",
       "      <td>NaN</td>\n",
       "      <td>NaN</td>\n",
       "      <td>NaN</td>\n",
       "      <td>NaN</td>\n",
       "      <td>NaN</td>\n",
       "      <td>NaN</td>\n",
       "      <td>NaN</td>\n",
       "      <td>NaN</td>\n",
       "    </tr>\n",
       "    <tr>\n",
       "      <th>2299</th>\n",
       "      <td>-</td>\n",
       "      <td>NaN</td>\n",
       "      <td>NaN</td>\n",
       "      <td>NaN</td>\n",
       "      <td>NaN</td>\n",
       "      <td>NaN</td>\n",
       "      <td>NaN</td>\n",
       "      <td>NaN</td>\n",
       "      <td>NaN</td>\n",
       "      <td>NaN</td>\n",
       "      <td>NaN</td>\n",
       "      <td>NaN</td>\n",
       "      <td>NaN</td>\n",
       "    </tr>\n",
       "    <tr>\n",
       "      <th>2300</th>\n",
       "      <td>-</td>\n",
       "      <td>NaN</td>\n",
       "      <td>NaN</td>\n",
       "      <td>NaN</td>\n",
       "      <td>NaN</td>\n",
       "      <td>NaN</td>\n",
       "      <td>NaN</td>\n",
       "      <td>NaN</td>\n",
       "      <td>NaN</td>\n",
       "      <td>NaN</td>\n",
       "      <td>NaN</td>\n",
       "      <td>NaN</td>\n",
       "      <td>NaN</td>\n",
       "    </tr>\n",
       "    <tr>\n",
       "      <th>2301</th>\n",
       "      <td>-</td>\n",
       "      <td>NaN</td>\n",
       "      <td>NaN</td>\n",
       "      <td>NaN</td>\n",
       "      <td>NaN</td>\n",
       "      <td>NaN</td>\n",
       "      <td>NaN</td>\n",
       "      <td>NaN</td>\n",
       "      <td>NaN</td>\n",
       "      <td>NaN</td>\n",
       "      <td>NaN</td>\n",
       "      <td>NaN</td>\n",
       "      <td>NaN</td>\n",
       "    </tr>\n",
       "    <tr>\n",
       "      <th>2302</th>\n",
       "      <td>-</td>\n",
       "      <td>NaN</td>\n",
       "      <td>NaN</td>\n",
       "      <td>NaN</td>\n",
       "      <td>NaN</td>\n",
       "      <td>NaN</td>\n",
       "      <td>NaN</td>\n",
       "      <td>NaN</td>\n",
       "      <td>NaN</td>\n",
       "      <td>NaN</td>\n",
       "      <td>NaN</td>\n",
       "      <td>NaN</td>\n",
       "      <td>NaN</td>\n",
       "    </tr>\n",
       "    <tr>\n",
       "      <th>2303</th>\n",
       "      <td>-</td>\n",
       "      <td>NaN</td>\n",
       "      <td>NaN</td>\n",
       "      <td>NaN</td>\n",
       "      <td>NaN</td>\n",
       "      <td>NaN</td>\n",
       "      <td>NaN</td>\n",
       "      <td>NaN</td>\n",
       "      <td>NaN</td>\n",
       "      <td>NaN</td>\n",
       "      <td>NaN</td>\n",
       "      <td>NaN</td>\n",
       "      <td>NaN</td>\n",
       "    </tr>\n",
       "    <tr>\n",
       "      <th>2304</th>\n",
       "      <td>-</td>\n",
       "      <td>NaN</td>\n",
       "      <td>NaN</td>\n",
       "      <td>NaN</td>\n",
       "      <td>NaN</td>\n",
       "      <td>NaN</td>\n",
       "      <td>NaN</td>\n",
       "      <td>NaN</td>\n",
       "      <td>NaN</td>\n",
       "      <td>NaN</td>\n",
       "      <td>NaN</td>\n",
       "      <td>NaN</td>\n",
       "      <td>NaN</td>\n",
       "    </tr>\n",
       "    <tr>\n",
       "      <th>2305</th>\n",
       "      <td>-</td>\n",
       "      <td>NaN</td>\n",
       "      <td>NaN</td>\n",
       "      <td>NaN</td>\n",
       "      <td>NaN</td>\n",
       "      <td>NaN</td>\n",
       "      <td>NaN</td>\n",
       "      <td>NaN</td>\n",
       "      <td>NaN</td>\n",
       "      <td>NaN</td>\n",
       "      <td>NaN</td>\n",
       "      <td>NaN</td>\n",
       "      <td>NaN</td>\n",
       "    </tr>\n",
       "    <tr>\n",
       "      <th>2306</th>\n",
       "      <td>-</td>\n",
       "      <td>NaN</td>\n",
       "      <td>NaN</td>\n",
       "      <td>NaN</td>\n",
       "      <td>NaN</td>\n",
       "      <td>NaN</td>\n",
       "      <td>NaN</td>\n",
       "      <td>NaN</td>\n",
       "      <td>NaN</td>\n",
       "      <td>NaN</td>\n",
       "      <td>NaN</td>\n",
       "      <td>NaN</td>\n",
       "      <td>NaN</td>\n",
       "    </tr>\n",
       "    <tr>\n",
       "      <th>2307</th>\n",
       "      <td>-</td>\n",
       "      <td>NaN</td>\n",
       "      <td>NaN</td>\n",
       "      <td>NaN</td>\n",
       "      <td>NaN</td>\n",
       "      <td>NaN</td>\n",
       "      <td>NaN</td>\n",
       "      <td>NaN</td>\n",
       "      <td>NaN</td>\n",
       "      <td>NaN</td>\n",
       "      <td>NaN</td>\n",
       "      <td>NaN</td>\n",
       "      <td>NaN</td>\n",
       "    </tr>\n",
       "    <tr>\n",
       "      <th>2308</th>\n",
       "      <td>-</td>\n",
       "      <td>NaN</td>\n",
       "      <td>NaN</td>\n",
       "      <td>NaN</td>\n",
       "      <td>NaN</td>\n",
       "      <td>NaN</td>\n",
       "      <td>NaN</td>\n",
       "      <td>NaN</td>\n",
       "      <td>NaN</td>\n",
       "      <td>NaN</td>\n",
       "      <td>NaN</td>\n",
       "      <td>NaN</td>\n",
       "      <td>NaN</td>\n",
       "    </tr>\n",
       "    <tr>\n",
       "      <th>2309</th>\n",
       "      <td>-</td>\n",
       "      <td>NaN</td>\n",
       "      <td>NaN</td>\n",
       "      <td>NaN</td>\n",
       "      <td>NaN</td>\n",
       "      <td>NaN</td>\n",
       "      <td>NaN</td>\n",
       "      <td>NaN</td>\n",
       "      <td>NaN</td>\n",
       "      <td>NaN</td>\n",
       "      <td>NaN</td>\n",
       "      <td>NaN</td>\n",
       "      <td>NaN</td>\n",
       "    </tr>\n",
       "    <tr>\n",
       "      <th>2310</th>\n",
       "      <td>-</td>\n",
       "      <td>NaN</td>\n",
       "      <td>NaN</td>\n",
       "      <td>NaN</td>\n",
       "      <td>NaN</td>\n",
       "      <td>NaN</td>\n",
       "      <td>NaN</td>\n",
       "      <td>NaN</td>\n",
       "      <td>NaN</td>\n",
       "      <td>NaN</td>\n",
       "      <td>NaN</td>\n",
       "      <td>NaN</td>\n",
       "      <td>NaN</td>\n",
       "    </tr>\n",
       "    <tr>\n",
       "      <th>2311</th>\n",
       "      <td>-</td>\n",
       "      <td>NaN</td>\n",
       "      <td>NaN</td>\n",
       "      <td>NaN</td>\n",
       "      <td>NaN</td>\n",
       "      <td>NaN</td>\n",
       "      <td>NaN</td>\n",
       "      <td>NaN</td>\n",
       "      <td>NaN</td>\n",
       "      <td>NaN</td>\n",
       "      <td>NaN</td>\n",
       "      <td>NaN</td>\n",
       "      <td>NaN</td>\n",
       "    </tr>\n",
       "    <tr>\n",
       "      <th>2312</th>\n",
       "      <td>-</td>\n",
       "      <td>NaN</td>\n",
       "      <td>NaN</td>\n",
       "      <td>NaN</td>\n",
       "      <td>NaN</td>\n",
       "      <td>NaN</td>\n",
       "      <td>NaN</td>\n",
       "      <td>NaN</td>\n",
       "      <td>NaN</td>\n",
       "      <td>NaN</td>\n",
       "      <td>NaN</td>\n",
       "      <td>NaN</td>\n",
       "      <td>NaN</td>\n",
       "    </tr>\n",
       "    <tr>\n",
       "      <th>2313</th>\n",
       "      <td>-</td>\n",
       "      <td>NaN</td>\n",
       "      <td>NaN</td>\n",
       "      <td>NaN</td>\n",
       "      <td>NaN</td>\n",
       "      <td>NaN</td>\n",
       "      <td>NaN</td>\n",
       "      <td>NaN</td>\n",
       "      <td>NaN</td>\n",
       "      <td>NaN</td>\n",
       "      <td>NaN</td>\n",
       "      <td>NaN</td>\n",
       "      <td>NaN</td>\n",
       "    </tr>\n",
       "    <tr>\n",
       "      <th>2314</th>\n",
       "      <td>-</td>\n",
       "      <td>NaN</td>\n",
       "      <td>NaN</td>\n",
       "      <td>NaN</td>\n",
       "      <td>NaN</td>\n",
       "      <td>NaN</td>\n",
       "      <td>NaN</td>\n",
       "      <td>NaN</td>\n",
       "      <td>NaN</td>\n",
       "      <td>NaN</td>\n",
       "      <td>NaN</td>\n",
       "      <td>NaN</td>\n",
       "      <td>NaN</td>\n",
       "    </tr>\n",
       "    <tr>\n",
       "      <th>2315</th>\n",
       "      <td>-</td>\n",
       "      <td>NaN</td>\n",
       "      <td>NaN</td>\n",
       "      <td>NaN</td>\n",
       "      <td>NaN</td>\n",
       "      <td>NaN</td>\n",
       "      <td>NaN</td>\n",
       "      <td>NaN</td>\n",
       "      <td>NaN</td>\n",
       "      <td>NaN</td>\n",
       "      <td>NaN</td>\n",
       "      <td>NaN</td>\n",
       "      <td>NaN</td>\n",
       "    </tr>\n",
       "    <tr>\n",
       "      <th>2316</th>\n",
       "      <td>-</td>\n",
       "      <td>NaN</td>\n",
       "      <td>NaN</td>\n",
       "      <td>NaN</td>\n",
       "      <td>NaN</td>\n",
       "      <td>NaN</td>\n",
       "      <td>NaN</td>\n",
       "      <td>NaN</td>\n",
       "      <td>NaN</td>\n",
       "      <td>NaN</td>\n",
       "      <td>NaN</td>\n",
       "      <td>NaN</td>\n",
       "      <td>NaN</td>\n",
       "    </tr>\n",
       "  </tbody>\n",
       "</table>\n",
       "</div>\n",
       "    <div class=\"colab-df-buttons\">\n",
       "\n",
       "  <div class=\"colab-df-container\">\n",
       "    <button class=\"colab-df-convert\" onclick=\"convertToInteractive('df-72856339-92b9-4f0e-93d2-27db66e862e5')\"\n",
       "            title=\"Convert this dataframe to an interactive table.\"\n",
       "            style=\"display:none;\">\n",
       "\n",
       "  <svg xmlns=\"http://www.w3.org/2000/svg\" height=\"24px\" viewBox=\"0 -960 960 960\">\n",
       "    <path d=\"M120-120v-720h720v720H120Zm60-500h600v-160H180v160Zm220 220h160v-160H400v160Zm0 220h160v-160H400v160ZM180-400h160v-160H180v160Zm440 0h160v-160H620v160ZM180-180h160v-160H180v160Zm440 0h160v-160H620v160Z\"/>\n",
       "  </svg>\n",
       "    </button>\n",
       "\n",
       "  <style>\n",
       "    .colab-df-container {\n",
       "      display:flex;\n",
       "      gap: 12px;\n",
       "    }\n",
       "\n",
       "    .colab-df-convert {\n",
       "      background-color: #E8F0FE;\n",
       "      border: none;\n",
       "      border-radius: 50%;\n",
       "      cursor: pointer;\n",
       "      display: none;\n",
       "      fill: #1967D2;\n",
       "      height: 32px;\n",
       "      padding: 0 0 0 0;\n",
       "      width: 32px;\n",
       "    }\n",
       "\n",
       "    .colab-df-convert:hover {\n",
       "      background-color: #E2EBFA;\n",
       "      box-shadow: 0px 1px 2px rgba(60, 64, 67, 0.3), 0px 1px 3px 1px rgba(60, 64, 67, 0.15);\n",
       "      fill: #174EA6;\n",
       "    }\n",
       "\n",
       "    .colab-df-buttons div {\n",
       "      margin-bottom: 4px;\n",
       "    }\n",
       "\n",
       "    [theme=dark] .colab-df-convert {\n",
       "      background-color: #3B4455;\n",
       "      fill: #D2E3FC;\n",
       "    }\n",
       "\n",
       "    [theme=dark] .colab-df-convert:hover {\n",
       "      background-color: #434B5C;\n",
       "      box-shadow: 0px 1px 3px 1px rgba(0, 0, 0, 0.15);\n",
       "      filter: drop-shadow(0px 1px 2px rgba(0, 0, 0, 0.3));\n",
       "      fill: #FFFFFF;\n",
       "    }\n",
       "  </style>\n",
       "\n",
       "    <script>\n",
       "      const buttonEl =\n",
       "        document.querySelector('#df-72856339-92b9-4f0e-93d2-27db66e862e5 button.colab-df-convert');\n",
       "      buttonEl.style.display =\n",
       "        google.colab.kernel.accessAllowed ? 'block' : 'none';\n",
       "\n",
       "      async function convertToInteractive(key) {\n",
       "        const element = document.querySelector('#df-72856339-92b9-4f0e-93d2-27db66e862e5');\n",
       "        const dataTable =\n",
       "          await google.colab.kernel.invokeFunction('convertToInteractive',\n",
       "                                                    [key], {});\n",
       "        if (!dataTable) return;\n",
       "\n",
       "        const docLinkHtml = 'Like what you see? Visit the ' +\n",
       "          '<a target=\"_blank\" href=https://colab.research.google.com/notebooks/data_table.ipynb>data table notebook</a>'\n",
       "          + ' to learn more about interactive tables.';\n",
       "        element.innerHTML = '';\n",
       "        dataTable['output_type'] = 'display_data';\n",
       "        await google.colab.output.renderOutput(dataTable, element);\n",
       "        const docLink = document.createElement('div');\n",
       "        docLink.innerHTML = docLinkHtml;\n",
       "        element.appendChild(docLink);\n",
       "      }\n",
       "    </script>\n",
       "  </div>\n",
       "\n",
       "\n",
       "<div id=\"df-e868f502-5b4a-4c7c-8817-3831e7ac5d95\">\n",
       "  <button class=\"colab-df-quickchart\" onclick=\"quickchart('df-e868f502-5b4a-4c7c-8817-3831e7ac5d95')\"\n",
       "            title=\"Suggest charts\"\n",
       "            style=\"display:none;\">\n",
       "\n",
       "<svg xmlns=\"http://www.w3.org/2000/svg\" height=\"24px\"viewBox=\"0 0 24 24\"\n",
       "     width=\"24px\">\n",
       "    <g>\n",
       "        <path d=\"M19 3H5c-1.1 0-2 .9-2 2v14c0 1.1.9 2 2 2h14c1.1 0 2-.9 2-2V5c0-1.1-.9-2-2-2zM9 17H7v-7h2v7zm4 0h-2V7h2v10zm4 0h-2v-4h2v4z\"/>\n",
       "    </g>\n",
       "</svg>\n",
       "  </button>\n",
       "\n",
       "<style>\n",
       "  .colab-df-quickchart {\n",
       "      --bg-color: #E8F0FE;\n",
       "      --fill-color: #1967D2;\n",
       "      --hover-bg-color: #E2EBFA;\n",
       "      --hover-fill-color: #174EA6;\n",
       "      --disabled-fill-color: #AAA;\n",
       "      --disabled-bg-color: #DDD;\n",
       "  }\n",
       "\n",
       "  [theme=dark] .colab-df-quickchart {\n",
       "      --bg-color: #3B4455;\n",
       "      --fill-color: #D2E3FC;\n",
       "      --hover-bg-color: #434B5C;\n",
       "      --hover-fill-color: #FFFFFF;\n",
       "      --disabled-bg-color: #3B4455;\n",
       "      --disabled-fill-color: #666;\n",
       "  }\n",
       "\n",
       "  .colab-df-quickchart {\n",
       "    background-color: var(--bg-color);\n",
       "    border: none;\n",
       "    border-radius: 50%;\n",
       "    cursor: pointer;\n",
       "    display: none;\n",
       "    fill: var(--fill-color);\n",
       "    height: 32px;\n",
       "    padding: 0;\n",
       "    width: 32px;\n",
       "  }\n",
       "\n",
       "  .colab-df-quickchart:hover {\n",
       "    background-color: var(--hover-bg-color);\n",
       "    box-shadow: 0 1px 2px rgba(60, 64, 67, 0.3), 0 1px 3px 1px rgba(60, 64, 67, 0.15);\n",
       "    fill: var(--button-hover-fill-color);\n",
       "  }\n",
       "\n",
       "  .colab-df-quickchart-complete:disabled,\n",
       "  .colab-df-quickchart-complete:disabled:hover {\n",
       "    background-color: var(--disabled-bg-color);\n",
       "    fill: var(--disabled-fill-color);\n",
       "    box-shadow: none;\n",
       "  }\n",
       "\n",
       "  .colab-df-spinner {\n",
       "    border: 2px solid var(--fill-color);\n",
       "    border-color: transparent;\n",
       "    border-bottom-color: var(--fill-color);\n",
       "    animation:\n",
       "      spin 1s steps(1) infinite;\n",
       "  }\n",
       "\n",
       "  @keyframes spin {\n",
       "    0% {\n",
       "      border-color: transparent;\n",
       "      border-bottom-color: var(--fill-color);\n",
       "      border-left-color: var(--fill-color);\n",
       "    }\n",
       "    20% {\n",
       "      border-color: transparent;\n",
       "      border-left-color: var(--fill-color);\n",
       "      border-top-color: var(--fill-color);\n",
       "    }\n",
       "    30% {\n",
       "      border-color: transparent;\n",
       "      border-left-color: var(--fill-color);\n",
       "      border-top-color: var(--fill-color);\n",
       "      border-right-color: var(--fill-color);\n",
       "    }\n",
       "    40% {\n",
       "      border-color: transparent;\n",
       "      border-right-color: var(--fill-color);\n",
       "      border-top-color: var(--fill-color);\n",
       "    }\n",
       "    60% {\n",
       "      border-color: transparent;\n",
       "      border-right-color: var(--fill-color);\n",
       "    }\n",
       "    80% {\n",
       "      border-color: transparent;\n",
       "      border-right-color: var(--fill-color);\n",
       "      border-bottom-color: var(--fill-color);\n",
       "    }\n",
       "    90% {\n",
       "      border-color: transparent;\n",
       "      border-bottom-color: var(--fill-color);\n",
       "    }\n",
       "  }\n",
       "</style>\n",
       "\n",
       "  <script>\n",
       "    async function quickchart(key) {\n",
       "      const quickchartButtonEl =\n",
       "        document.querySelector('#' + key + ' button');\n",
       "      quickchartButtonEl.disabled = true;  // To prevent multiple clicks.\n",
       "      quickchartButtonEl.classList.add('colab-df-spinner');\n",
       "      try {\n",
       "        const charts = await google.colab.kernel.invokeFunction(\n",
       "            'suggestCharts', [key], {});\n",
       "      } catch (error) {\n",
       "        console.error('Error during call to suggestCharts:', error);\n",
       "      }\n",
       "      quickchartButtonEl.classList.remove('colab-df-spinner');\n",
       "      quickchartButtonEl.classList.add('colab-df-quickchart-complete');\n",
       "    }\n",
       "    (() => {\n",
       "      let quickchartButtonEl =\n",
       "        document.querySelector('#df-e868f502-5b4a-4c7c-8817-3831e7ac5d95 button');\n",
       "      quickchartButtonEl.style.display =\n",
       "        google.colab.kernel.accessAllowed ? 'block' : 'none';\n",
       "    })();\n",
       "  </script>\n",
       "</div>\n",
       "    </div>\n",
       "  </div>\n"
      ],
      "text/plain": [
       "     University Rank Name of University Location No of student  \\\n",
       "2288               -                NaN      NaN           NaN   \n",
       "2289               -                NaN      NaN           NaN   \n",
       "2290               -                NaN      NaN           NaN   \n",
       "2291               -                NaN      NaN           NaN   \n",
       "2292               -                NaN      NaN           NaN   \n",
       "2293               -                NaN      NaN           NaN   \n",
       "2294               -                NaN      NaN           NaN   \n",
       "2295               -                NaN      NaN           NaN   \n",
       "2296               -                NaN      NaN           NaN   \n",
       "2297               -                NaN      NaN           NaN   \n",
       "2298               -                NaN      NaN           NaN   \n",
       "2299               -                NaN      NaN           NaN   \n",
       "2300               -                NaN      NaN           NaN   \n",
       "2301               -                NaN      NaN           NaN   \n",
       "2302               -                NaN      NaN           NaN   \n",
       "2303               -                NaN      NaN           NaN   \n",
       "2304               -                NaN      NaN           NaN   \n",
       "2305               -                NaN      NaN           NaN   \n",
       "2306               -                NaN      NaN           NaN   \n",
       "2307               -                NaN      NaN           NaN   \n",
       "2308               -                NaN      NaN           NaN   \n",
       "2309               -                NaN      NaN           NaN   \n",
       "2310               -                NaN      NaN           NaN   \n",
       "2311               -                NaN      NaN           NaN   \n",
       "2312               -                NaN      NaN           NaN   \n",
       "2313               -                NaN      NaN           NaN   \n",
       "2314               -                NaN      NaN           NaN   \n",
       "2315               -                NaN      NaN           NaN   \n",
       "2316               -                NaN      NaN           NaN   \n",
       "\n",
       "      No of student per staff International Student Female:Male Ratio  \\\n",
       "2288                      NaN                   NaN               NaN   \n",
       "2289                      NaN                   NaN               NaN   \n",
       "2290                      NaN                   NaN               NaN   \n",
       "2291                      NaN                   NaN               NaN   \n",
       "2292                      NaN                   NaN               NaN   \n",
       "2293                      NaN                   NaN               NaN   \n",
       "2294                      NaN                   NaN               NaN   \n",
       "2295                      NaN                   NaN               NaN   \n",
       "2296                      NaN                   NaN               NaN   \n",
       "2297                      NaN                   NaN               NaN   \n",
       "2298                      NaN                   NaN               NaN   \n",
       "2299                      NaN                   NaN               NaN   \n",
       "2300                      NaN                   NaN               NaN   \n",
       "2301                      NaN                   NaN               NaN   \n",
       "2302                      NaN                   NaN               NaN   \n",
       "2303                      NaN                   NaN               NaN   \n",
       "2304                      NaN                   NaN               NaN   \n",
       "2305                      NaN                   NaN               NaN   \n",
       "2306                      NaN                   NaN               NaN   \n",
       "2307                      NaN                   NaN               NaN   \n",
       "2308                      NaN                   NaN               NaN   \n",
       "2309                      NaN                   NaN               NaN   \n",
       "2310                      NaN                   NaN               NaN   \n",
       "2311                      NaN                   NaN               NaN   \n",
       "2312                      NaN                   NaN               NaN   \n",
       "2313                      NaN                   NaN               NaN   \n",
       "2314                      NaN                   NaN               NaN   \n",
       "2315                      NaN                   NaN               NaN   \n",
       "2316                      NaN                   NaN               NaN   \n",
       "\n",
       "     OverAll Score  Teaching Score  Research Score  Citations Score  \\\n",
       "2288           NaN             NaN             NaN              NaN   \n",
       "2289           NaN             NaN             NaN              NaN   \n",
       "2290           NaN             NaN             NaN              NaN   \n",
       "2291           NaN             NaN             NaN              NaN   \n",
       "2292           NaN             NaN             NaN              NaN   \n",
       "2293           NaN             NaN             NaN              NaN   \n",
       "2294           NaN             NaN             NaN              NaN   \n",
       "2295           NaN             NaN             NaN              NaN   \n",
       "2296           NaN             NaN             NaN              NaN   \n",
       "2297           NaN             NaN             NaN              NaN   \n",
       "2298           NaN             NaN             NaN              NaN   \n",
       "2299           NaN             NaN             NaN              NaN   \n",
       "2300           NaN             NaN             NaN              NaN   \n",
       "2301           NaN             NaN             NaN              NaN   \n",
       "2302           NaN             NaN             NaN              NaN   \n",
       "2303           NaN             NaN             NaN              NaN   \n",
       "2304           NaN             NaN             NaN              NaN   \n",
       "2305           NaN             NaN             NaN              NaN   \n",
       "2306           NaN             NaN             NaN              NaN   \n",
       "2307           NaN             NaN             NaN              NaN   \n",
       "2308           NaN             NaN             NaN              NaN   \n",
       "2309           NaN             NaN             NaN              NaN   \n",
       "2310           NaN             NaN             NaN              NaN   \n",
       "2311           NaN             NaN             NaN              NaN   \n",
       "2312           NaN             NaN             NaN              NaN   \n",
       "2313           NaN             NaN             NaN              NaN   \n",
       "2314           NaN             NaN             NaN              NaN   \n",
       "2315           NaN             NaN             NaN              NaN   \n",
       "2316           NaN             NaN             NaN              NaN   \n",
       "\n",
       "      Industry Income Score  International Outlook Score  \n",
       "2288                    NaN                          NaN  \n",
       "2289                    NaN                          NaN  \n",
       "2290                    NaN                          NaN  \n",
       "2291                    NaN                          NaN  \n",
       "2292                    NaN                          NaN  \n",
       "2293                    NaN                          NaN  \n",
       "2294                    NaN                          NaN  \n",
       "2295                    NaN                          NaN  \n",
       "2296                    NaN                          NaN  \n",
       "2297                    NaN                          NaN  \n",
       "2298                    NaN                          NaN  \n",
       "2299                    NaN                          NaN  \n",
       "2300                    NaN                          NaN  \n",
       "2301                    NaN                          NaN  \n",
       "2302                    NaN                          NaN  \n",
       "2303                    NaN                          NaN  \n",
       "2304                    NaN                          NaN  \n",
       "2305                    NaN                          NaN  \n",
       "2306                    NaN                          NaN  \n",
       "2307                    NaN                          NaN  \n",
       "2308                    NaN                          NaN  \n",
       "2309                    NaN                          NaN  \n",
       "2310                    NaN                          NaN  \n",
       "2311                    NaN                          NaN  \n",
       "2312                    NaN                          NaN  \n",
       "2313                    NaN                          NaN  \n",
       "2314                    NaN                          NaN  \n",
       "2315                    NaN                          NaN  \n",
       "2316                    NaN                          NaN  "
      ]
     },
     "execution_count": 261,
     "metadata": {},
     "output_type": "execute_result"
    }
   ],
   "source": [
    "duplicate_rows = data[data.duplicated(keep='first')]\n",
    "num_duplicates = duplicate_rows.shape[0]#The code identifies and counts duplicate rows in the dataset 'data' using data.duplicated(keep='first'). The resulting DataFrame duplicate_rows contains the duplicated rows, and the variable num_duplicates holds the count of these duplicates. The parameter keep='first' retains the first occurrence of each duplicated row.\n",
    "print(f\"Number of duplicate rows: {num_duplicates}\")\n",
    "duplicate_rows#outputs the number of duplicate rows in the dataset 'data', and duplicate_rows is a DataFrame containing those duplicated rows.\n"
   ]
  },
  {
   "cell_type": "markdown",
   "metadata": {
    "id": "ETX1u0yHtc1C"
   },
   "source": [
    "Number of duplicate rows: 29"
   ]
  },
  {
   "cell_type": "code",
   "execution_count": 262,
   "metadata": {
    "executionInfo": {
     "elapsed": 22,
     "status": "ok",
     "timestamp": 1701597353646,
     "user": {
      "displayName": "PRIHA BHATTI",
      "userId": "17593611182648033997"
     },
     "user_tz": -300
    },
    "id": "mR_8uMGX2M0-"
   },
   "outputs": [],
   "source": [
    "# Assuming 'old_column_name' is the current column name and 'new_column_name' is the desired new column name\n",
    "data.rename(columns={'Location': 'Country'}, inplace=True)\n"
   ]
  },
  {
   "cell_type": "code",
   "execution_count": 263,
   "metadata": {
    "colab": {
     "base_uri": "https://localhost:8080/"
    },
    "executionInfo": {
     "elapsed": 22,
     "status": "ok",
     "timestamp": 1701597353647,
     "user": {
      "displayName": "PRIHA BHATTI",
      "userId": "17593611182648033997"
     },
     "user_tz": -300
    },
    "id": "zCvZd3vK2cP-",
    "outputId": "fcdb5ca7-6670-48fe-858e-9138a08c0499"
   },
   "outputs": [
    {
     "name": "stdout",
     "output_type": "stream",
     "text": [
      "<class 'pandas.core.frame.DataFrame'>\n",
      "RangeIndex: 2341 entries, 0 to 2340\n",
      "Data columns (total 13 columns):\n",
      " #   Column                       Non-Null Count  Dtype  \n",
      "---  ------                       --------------  -----  \n",
      " 0   University Rank              2341 non-null   object \n",
      " 1   Name of University           2233 non-null   object \n",
      " 2   Country                      2047 non-null   object \n",
      " 3   No of student                2209 non-null   object \n",
      " 4   No of student per staff      2208 non-null   float64\n",
      " 5   International Student        2209 non-null   object \n",
      " 6   Female:Male Ratio            2128 non-null   object \n",
      " 7   OverAll Score                1799 non-null   object \n",
      " 8   Teaching Score               1799 non-null   float64\n",
      " 9   Research Score               1799 non-null   float64\n",
      " 10  Citations Score              1799 non-null   float64\n",
      " 11  Industry Income Score        1799 non-null   float64\n",
      " 12  International Outlook Score  1799 non-null   float64\n",
      "dtypes: float64(6), object(7)\n",
      "memory usage: 237.9+ KB\n"
     ]
    }
   ],
   "source": [
    "data.info()"
   ]
  },
  {
   "cell_type": "markdown",
   "metadata": {
    "id": "-EWMMCEyth2Y"
   },
   "source": [
    "# **3. Data Cleaning**\n",
    "**3.1 Handling Missing values and Null Values**\n",
    "1.\tFill empty strings with NaN values\n",
    "2.\tNow we will check the number of missing values in every feature\n",
    "3.\tMissing values in Name of University and Location can be handled by replacing NaN values with \"Unknown\".\n",
    "4.\tMissing values in 'No of student per staff', 'Teaching Score', 'Research Score', 'Citations Score', 'Industry Income Score', and 'International Outlook Score' can be handled by replacing their NaN values with the mean of the feature.\n",
    "5.\tNow for the rest of the features we have to encode them and then handle missing values\n"
   ]
  },
  {
   "cell_type": "code",
   "execution_count": 264,
   "metadata": {
    "colab": {
     "base_uri": "https://localhost:8080/"
    },
    "executionInfo": {
     "elapsed": 883,
     "status": "ok",
     "timestamp": 1701597354510,
     "user": {
      "displayName": "PRIHA BHATTI",
      "userId": "17593611182648033997"
     },
     "user_tz": -300
    },
    "id": "sKFMO1FJt2mx",
    "outputId": "d334fcba-cbfc-476c-d0bb-476fb59772b2"
   },
   "outputs": [
    {
     "data": {
      "text/plain": [
       "(1488, 13)"
      ]
     },
     "execution_count": 264,
     "metadata": {},
     "output_type": "execute_result"
    }
   ],
   "source": [
    "data=data.dropna()#removes rows with any missing values from the dataset 'data'. The subsequent code\n",
    "data.shape# returns the new dimensions of the dataset after the removal of rows with missing values."
   ]
  },
  {
   "cell_type": "code",
   "execution_count": 265,
   "metadata": {
    "colab": {
     "base_uri": "https://localhost:8080/"
    },
    "executionInfo": {
     "elapsed": 17,
     "status": "ok",
     "timestamp": 1701597354510,
     "user": {
      "displayName": "PRIHA BHATTI",
      "userId": "17593611182648033997"
     },
     "user_tz": -300
    },
    "id": "LjR_GCM1uUrI",
    "outputId": "ded8387d-4f1c-42d6-abb4-3d1afe7eb7d4"
   },
   "outputs": [
    {
     "name": "stdout",
     "output_type": "stream",
     "text": [
      "Series([], dtype: int64)\n"
     ]
    }
   ],
   "source": [
    "missing_values = data.isnull().sum()\n",
    "missing_values = missing_values[missing_values > 0]\n",
    "print(missing_values)#calculates the number of missing values for each column in the dataset 'data'. The subsequent lines filter and print only those columns that have missing values (count greater than 0). The result is a list of columns with their respective counts of missing values."
   ]
  },
  {
   "cell_type": "code",
   "execution_count": 266,
   "metadata": {
    "colab": {
     "base_uri": "https://localhost:8080/"
    },
    "executionInfo": {
     "elapsed": 16,
     "status": "ok",
     "timestamp": 1701597354511,
     "user": {
      "displayName": "PRIHA BHATTI",
      "userId": "17593611182648033997"
     },
     "user_tz": -300
    },
    "id": "8l75JMVAvDDl",
    "outputId": "02657eef-4a9e-4d1b-8902-3289e2769b79"
   },
   "outputs": [
    {
     "name": "stderr",
     "output_type": "stream",
     "text": [
      "<ipython-input-266-aa2066aa88ef>:2: FutureWarning: The default value of numeric_only in DataFrame.median is deprecated. In a future version, it will default to False. In addition, specifying 'numeric_only=None' is deprecated. Select only valid columns or specify the value of numeric_only to silence this warning.\n",
      "  data.fillna(data.median().iloc[0], inplace=True)\n",
      "<ipython-input-266-aa2066aa88ef>:2: SettingWithCopyWarning: \n",
      "A value is trying to be set on a copy of a slice from a DataFrame\n",
      "\n",
      "See the caveats in the documentation: https://pandas.pydata.org/pandas-docs/stable/user_guide/indexing.html#returning-a-view-versus-a-copy\n",
      "  data.fillna(data.median().iloc[0], inplace=True)\n"
     ]
    },
    {
     "data": {
      "text/plain": [
       "University Rank                0\n",
       "Name of University             0\n",
       "Country                        0\n",
       "No of student                  0\n",
       "No of student per staff        0\n",
       "International Student          0\n",
       "Female:Male Ratio              0\n",
       "OverAll Score                  0\n",
       "Teaching Score                 0\n",
       "Research Score                 0\n",
       "Citations Score                0\n",
       "Industry Income Score          0\n",
       "International Outlook Score    0\n",
       "dtype: int64"
      ]
     },
     "execution_count": 266,
     "metadata": {},
     "output_type": "execute_result"
    }
   ],
   "source": [
    "# Impute missing values in categorical columns with the median\n",
    "data.fillna(data.median().iloc[0], inplace=True)\n",
    "data.isna().sum()\n"
   ]
  },
  {
   "cell_type": "code",
   "execution_count": 267,
   "metadata": {
    "colab": {
     "base_uri": "https://localhost:8080/"
    },
    "executionInfo": {
     "elapsed": 13,
     "status": "ok",
     "timestamp": 1701597354511,
     "user": {
      "displayName": "PRIHA BHATTI",
      "userId": "17593611182648033997"
     },
     "user_tz": -300
    },
    "id": "pv6JJD8sw8mD",
    "outputId": "3e61f0e7-5e95-48a0-e95a-782dab010261"
   },
   "outputs": [
    {
     "data": {
      "text/plain": [
       "University Rank                0\n",
       "Name of University             0\n",
       "Country                        0\n",
       "No of student                  0\n",
       "No of student per staff        0\n",
       "International Student          0\n",
       "Female:Male Ratio              0\n",
       "OverAll Score                  0\n",
       "Teaching Score                 0\n",
       "Research Score                 0\n",
       "Citations Score                0\n",
       "Industry Income Score          0\n",
       "International Outlook Score    0\n",
       "dtype: int64"
      ]
     },
     "execution_count": 267,
     "metadata": {},
     "output_type": "execute_result"
    }
   ],
   "source": [
    "data.isna().sum()#after imputing missing values, it should show all columns with a sum of 0, indicating that there are no missing values in those columns anymore. This is assuming you have successfully imputed or filled in the missing values using one of the methods mentioned earlier.\n"
   ]
  },
  {
   "cell_type": "markdown",
   "metadata": {
    "id": "rl_KBo-Yxb4K"
   },
   "source": [
    "**3.2 Changing the data types of the features**\n",
    "\n",
    "Certainly! Here are the key points in list form:\n",
    "\n",
    "Convert to Numeric:\n",
    "\n",
    "pd.to_numeric(data['Numeric_Column'], errors='coerce')\n",
    "\n",
    "Convert to Categorical:\n",
    "\n",
    "data['Categorical_Column'].astype('category')\n",
    "\n",
    "Convert to Datetime:\n",
    "\n",
    "pd.to_datetime(data['Date_Column'])\n",
    "\n",
    "Convert to String:\n",
    "\n",
    "data['String_Column'].astype(str)\n",
    "\n",
    "Convert to Boolean:\n",
    "\n",
    "data['Boolean_Column'].astype(bool)\n",
    "\n",
    "Convert to Int or Float:\n",
    "\n",
    "data['Numeric_Column'].astype(int)\n",
    "\n",
    "Convert to Ordinal:\n",
    "\n",
    "data['Ordinal_Column'].astype('category', ordered=True)\n",
    "\n",
    "Convert to Object:\n",
    "\n",
    "data['Mixed_Column'].astype(object)\n",
    "\n",
    "Ensure that the chosen data type aligns with the nature of the data and the requirements of your analysis or modeling task."
   ]
  },
  {
   "cell_type": "code",
   "execution_count": 268,
   "metadata": {
    "executionInfo": {
     "elapsed": 10,
     "status": "ok",
     "timestamp": 1701597354511,
     "user": {
      "displayName": "PRIHA BHATTI",
      "userId": "17593611182648033997"
     },
     "user_tz": -300
    },
    "id": "ctXuVIWwzPyE"
   },
   "outputs": [],
   "source": [
    "#cleaning and converting the 'International Student' column in the 'data' DataFrame. Specifically:\n",
    "data['International Student'] = data['International Student'].str.replace('%', ' ')#This line converts the values in the 'International Student' column to numeric format\n",
    "data['International Student'] = pd.to_numeric(data['International Student'], errors='coerce')# parameter is used to handle any non-numeric values by converting them to NaN (Not a Number).\n",
    "#After executing these lines, the 'International Student' column should contain numeric values without the percentage sign, and any non-numeric values would be represented as NaN."
   ]
  },
  {
   "cell_type": "code",
   "execution_count": 269,
   "metadata": {
    "executionInfo": {
     "elapsed": 9,
     "status": "ok",
     "timestamp": 1701597354511,
     "user": {
      "displayName": "PRIHA BHATTI",
      "userId": "17593611182648033997"
     },
     "user_tz": -300
    },
    "id": "wHMAy4_xzxdk"
   },
   "outputs": [],
   "source": [
    "data['International Student']=  data['International Student']/100 #dividing all the values in the 'International Student' column by 100. This operation is likely applied to convert the values from percentage format (e.g., 25%) to decimal format (e.g., 0.25). After executing this line, the 'International Student' column will contain values in decimal form, representing the proportion of international students."
   ]
  },
  {
   "cell_type": "code",
   "execution_count": 270,
   "metadata": {
    "executionInfo": {
     "elapsed": 9,
     "status": "ok",
     "timestamp": 1701597354511,
     "user": {
      "displayName": "PRIHA BHATTI",
      "userId": "17593611182648033997"
     },
     "user_tz": -300
    },
    "id": "e5HT2D0Ri162"
   },
   "outputs": [],
   "source": [
    "# Drop the 'Male' and 'Female' columns\n",
    "data = data.drop(['Female:Male Ratio'], axis=1)"
   ]
  },
  {
   "cell_type": "code",
   "execution_count": 271,
   "metadata": {
    "executionInfo": {
     "elapsed": 10,
     "status": "ok",
     "timestamp": 1701597354512,
     "user": {
      "displayName": "PRIHA BHATTI",
      "userId": "17593611182648033997"
     },
     "user_tz": -300
    },
    "id": "7bQiipemjZw7"
   },
   "outputs": [],
   "source": [
    "# Remove non-numeric characters and ensure only one decimal point in 'OverAll Score' column\n",
    "data['OverAll Score'] = data['OverAll Score'].str.replace(r'[^0-9.]', '', regex=True)\n",
    "data['OverAll Score'] = data['OverAll Score'].str.replace(r'\\.(?=.*\\.)', '', regex=True).astype(float)"
   ]
  },
  {
   "cell_type": "code",
   "execution_count": 272,
   "metadata": {
    "colab": {
     "base_uri": "https://localhost:8080/"
    },
    "executionInfo": {
     "elapsed": 9,
     "status": "ok",
     "timestamp": 1701597354512,
     "user": {
      "displayName": "PRIHA BHATTI",
      "userId": "17593611182648033997"
     },
     "user_tz": -300
    },
    "id": "DQENZxM1je88",
    "outputId": "c0e06ef9-d1da-4c26-bfc4-c1aabf7a22a0"
   },
   "outputs": [
    {
     "name": "stdout",
     "output_type": "stream",
     "text": [
      "University Rank                 object\n",
      "Name of University              object\n",
      "Country                         object\n",
      "No of student                   object\n",
      "No of student per staff        float64\n",
      "International Student          float64\n",
      "OverAll Score                  float64\n",
      "Teaching Score                 float64\n",
      "Research Score                 float64\n",
      "Citations Score                float64\n",
      "Industry Income Score          float64\n",
      "International Outlook Score    float64\n",
      "dtype: object\n"
     ]
    }
   ],
   "source": [
    "# Check the updated data types\n",
    "print(data.dtypes)"
   ]
  },
  {
   "cell_type": "markdown",
   "metadata": {
    "id": "mD6n1KKtv9ND"
   },
   "source": [
    "# **4. Data Visualization**\n",
    "Data visualization is a crucial aspect of data exploration and analysis, helping to communicate patterns, trends, and insights in a clear and effective manner. Here are some common types of data visualizations and the corresponding Python code using popular libraries like Matplotlib and Seaborn:\n",
    "\n",
    "Line Plot:\n",
    "\n",
    "A line plot displays data points on a two-dimensional plane, connecting them with straight lines. It is commonly used to show trends over a continuous variable.\n",
    "\n",
    "Scatter Plot:\n",
    "\n",
    "A scatter plot visualizes the relationship between two continuous variables. Each data point is represented by a dot on the graph, allowing for the observation of patterns or correlations.\n",
    "\n",
    "Histogram:\n",
    "\n",
    "A histogram represents the distribution of a single numerical variable by dividing it into bins and displaying the frequency of data points in each bin. It provides insights into the data's central tendency and spread.\n",
    "\n",
    "Box Plot:\n",
    "\n",
    "A box plot, or box-and-whisker plot, depicts the distribution of numerical data and displays the median, quartiles, and potential outliers. It helps identify the spread and central tendency of the data.\n",
    "\n",
    "Bar Chart:\n",
    "\n",
    "A bar chart illustrates the comparison of categorical variables by representing each category with a bar. The height of the bar corresponds to the frequency or proportion of data points in that category.\n",
    "\n",
    "Heatmap:\n",
    "\n",
    "A heatmap is a graphical representation of data in a matrix format, where values are represented as colors. It is often used to visualize relationships, patterns, or correlations in large datasets.\n",
    "\n",
    "Pair Plot:\n",
    "\n",
    "A pair plot creates a matrix of scatter plots to explore relationships between multiple numerical variables. It helps identify patterns and correlations across different pairs of features.\n",
    "\n",
    "Violin Plot:\n",
    "\n",
    "A violin plot combines aspects of a box plot and a kernel density plot. It displays the distribution of numerical data, providing insights into both central tendency and spread.\n",
    "\n",
    "Pie Chart:\n",
    "\n",
    "A pie chart represents the proportion of different categories in a dataset. Each category is represented as a slice of the pie, and the size of each slice corresponds to the proportion of data points in that category."
   ]
  },
  {
   "cell_type": "markdown",
   "metadata": {
    "id": "O2AVwutb__v9"
   },
   "source": [
    "# **Visulization of scores of feature**\n",
    "Visualization of scores of features refers to the graphical representation of numerical values associated with different features in a dataset. In data analysis and machine learning, a dataset typically comprises various features (also known as variables or attributes), and each instance or data point is described by a set of values corresponding to these features. Visualization helps analysts and researchers to gain insights into the distribution, patterns, and relationships within the data.\n",
    "\n",
    "***Getting Key Insights using visualizations***\n",
    "Getting key insights using visualizations involves using graphical representations of data to uncover patterns, trends, and relationships that may not be immediately apparent in raw datasets. Visualization is a powerful tool in data analysis and exploration, allowing analysts and decision-makers to derive actionable insights from complex information.\n",
    "\n"
   ]
  },
  {
   "cell_type": "markdown",
   "metadata": {
    "id": "DOea_PR7CCER"
   },
   "source": [
    "\n",
    "**Distribution of students based on frequency**\n",
    "\n",
    "The distribution of students based on frequency refers to the arrangement and representation of the number of students in different categories or groups, often expressed as a frequency distribution. This type of distribution provides insights into how many students fall into specific ranges or intervals within a given dataset."
   ]
  },
  {
   "cell_type": "code",
   "execution_count": 273,
   "metadata": {
    "colab": {
     "base_uri": "https://localhost:8080/",
     "height": 424
    },
    "executionInfo": {
     "elapsed": 21922,
     "status": "ok",
     "timestamp": 1701597376427,
     "user": {
      "displayName": "PRIHA BHATTI",
      "userId": "17593611182648033997"
     },
     "user_tz": -300
    },
    "id": "338Yax_8y2kG",
    "outputId": "a85f497e-c5e5-4c8a-b84a-f28066908cb9"
   },
   "outputs": [
    {
     "data": {
      "image/png": "[encoded data removed]",
      "text/plain": [
       "<Figure size 600x400 with 1 Axes>"
      ]
     },
     "metadata": {
      "needs_background": "light"
     },
     "output_type": "display_data"
    }
   ],
   "source": [
    "# Plot a histogram of 'No of student'\n",
    "plt.figure(figsize=(6, 4))\n",
    "sns.histplot(data=data, x='No of student', bins=20, kde=True)\n",
    "plt.title('Distribution of No of students')\n",
    "plt.xlabel('No of students')\n",
    "plt.ylabel('Frequency')\n",
    "plt.show()"
   ]
  },
  {
   "cell_type": "markdown",
   "metadata": {
    "id": "X9to73KIAlB2"
   },
   "source": [
    "**Top 10 Universites by over all score**\n",
    "\n",
    "Defining the \"overall score\" for universities typically involves considering multiple factors and criteria, such as academic reputation, faculty qualifications, student-to-faculty ratio, research output, international diversity, and more. Various organizations produce university rankings by aggregating scores based on their chosen criteria."
   ]
  },
  {
   "cell_type": "code",
   "execution_count": 274,
   "metadata": {
    "colab": {
     "base_uri": "https://localhost:8080/",
     "height": 424
    },
    "executionInfo": {
     "elapsed": 10,
     "status": "ok",
     "timestamp": 1701597376428,
     "user": {
      "displayName": "PRIHA BHATTI",
      "userId": "17593611182648033997"
     },
     "user_tz": -300
    },
    "id": "ETZK9SIb2-q7",
    "outputId": "96099b65-7dec-41ef-ef4c-2ee993e97d93"
   },
   "outputs": [
    {
     "data": {
      "image/png": "[encoded data removed]",
      "text/plain": [
       "<Figure size 600x400 with 1 Axes>"
      ]
     },
     "metadata": {
      "needs_background": "light"
     },
     "output_type": "display_data"
    }
   ],
   "source": [
    "top_universities = data.sort_values(by='OverAll Score', ascending=False).head(10)\n",
    "\n",
    "# Create a bar plot for the top universities\n",
    "plt.figure(figsize=(6, 4))\n",
    "sns.barplot(x='OverAll Score', y='Name of University', data=top_universities, palette='viridis')\n",
    "plt.title('Top Universities by Overall Score')\n",
    "plt.xlabel('Overall Score')\n",
    "plt.ylabel('University')\n",
    "plt.show()"
   ]
  },
  {
   "cell_type": "markdown",
   "metadata": {
    "id": "Ui-MIMedA9bs"
   },
   "source": [
    "**Relationship between Teaching score and Research score**\n",
    "\n",
    "The relationship between teaching score and research score typically refers to the correlation or connection between an individual's or an institution's performance in teaching and research activities in the field of education. This relationship is often explored in the context of academic institutions, such as universities and colleges, where teaching and research are two primary components of their mission."
   ]
  },
  {
   "cell_type": "code",
   "execution_count": 275,
   "metadata": {
    "colab": {
     "base_uri": "https://localhost:8080/",
     "height": 424
    },
    "executionInfo": {
     "elapsed": 1213,
     "status": "ok",
     "timestamp": 1701597377633,
     "user": {
      "displayName": "PRIHA BHATTI",
      "userId": "17593611182648033997"
     },
     "user_tz": -300
    },
    "id": "7xkejQP83Hkb",
    "outputId": "4c42a4fe-6ce0-45cb-e36b-e6ffd14e0d9a"
   },
   "outputs": [
    {
     "data": {
      "image/png": "[encoded data removed]",
      "text/plain": [
       "<Figure size 600x400 with 1 Axes>"
      ]
     },
     "metadata": {
      "needs_background": "light"
     },
     "output_type": "display_data"
    }
   ],
   "source": [
    "# Plot a scatterplot of 'Teaching Score' vs 'Research Score'\n",
    "plt.figure(figsize=(6, 4))\n",
    "sns.scatterplot(data=data, x='Teaching Score', y='Research Score')\n",
    "plt.title('Teaching Score vs Research Score')\n",
    "plt.xlabel('Teaching Score')\n",
    "plt.ylabel('Research Score')\n",
    "plt.show()"
   ]
  },
  {
   "cell_type": "markdown",
   "metadata": {
    "id": "MFjD14c9el4j"
   },
   "source": [
    "**Distribution of variance of Top 10 universities by research score**\n",
    "\n",
    "The distribution of variance of the top 10 universities by research score refers to how the research scores are spread or dispersed among the top 10 universities in a particular ranking. Variance is a statistical measure that quantifies the degree of spread or dispersion in a set of values. In the context of university rankings, the research score reflects the institutions' research performance, productivity, and impact."
   ]
  },
  {
   "cell_type": "code",
   "execution_count": 276,
   "metadata": {
    "colab": {
     "base_uri": "https://localhost:8080/",
     "height": 428
    },
    "executionInfo": {
     "elapsed": 24972,
     "status": "ok",
     "timestamp": 1701597402598,
     "user": {
      "displayName": "PRIHA BHATTI",
      "userId": "17593611182648033997"
     },
     "user_tz": -300
    },
    "id": "eBNTK7NlBOM_",
    "outputId": "14902fde-5fe6-48ce-fbcc-95bd2c87340f"
   },
   "outputs": [
    {
     "data": {
      "image/png": "[encoded data removed]",
      "text/plain": [
       "<Figure size 600x400 with 1 Axes>"
      ]
     },
     "metadata": {
      "needs_background": "light"
     },
     "output_type": "display_data"
    }
   ],
   "source": [
    "top_5_universities = data[\"Name of University\"][:10]\n",
    "top_5_scores=data[\"Research Score\"][:10]\n",
    "\n",
    "# Plot a barplot of 'top 10 universities' vs 'Research Score'\n",
    "plt.figure(figsize=(6, 4))\n",
    "sns.barplot(data=data, x='Name of University', y='Research Score')\n",
    "plt.title('top 10 universities by Research Score')\n",
    "plt.xlabel('Name of University')\n",
    "plt.ylabel('Research Score')\n",
    "plt.show()"
   ]
  },
  {
   "cell_type": "code",
   "execution_count": 276,
   "metadata": {
    "executionInfo": {
     "elapsed": 10,
     "status": "ok",
     "timestamp": 1701597402598,
     "user": {
      "displayName": "PRIHA BHATTI",
      "userId": "17593611182648033997"
     },
     "user_tz": -300
    },
    "id": "cXzigIFmeEwL"
   },
   "outputs": [],
   "source": []
  },
  {
   "cell_type": "markdown",
   "metadata": {
    "id": "JnGmjoZpBHhL"
   },
   "source": [
    "**Top 10 Universities based on Citation score**"
   ]
  },
  {
   "cell_type": "code",
   "execution_count": 277,
   "metadata": {
    "colab": {
     "base_uri": "https://localhost:8080/",
     "height": 424
    },
    "executionInfo": {
     "elapsed": 9,
     "status": "ok",
     "timestamp": 1701597402598,
     "user": {
      "displayName": "PRIHA BHATTI",
      "userId": "17593611182648033997"
     },
     "user_tz": -300
    },
    "id": "VH6TqXAC_yE_",
    "outputId": "234d0785-4c2c-4678-a310-6d27112a66fa"
   },
   "outputs": [
    {
     "data": {
      "image/png": "[encoded data removed]",
      "text/plain": [
       "<Figure size 600x400 with 1 Axes>"
      ]
     },
     "metadata": {
      "needs_background": "light"
     },
     "output_type": "display_data"
    }
   ],
   "source": [
    "top_10_universities = data[\"Name of University\"][:10]\n",
    "top_10_scores =data[\"Citations Score\"][:10]\n",
    "\n",
    "# Create a bar chart for the top 10 universities\n",
    "plt.figure(figsize=(6, 4))\n",
    "plt.barh(top_10_universities[::-1], top_10_scores[::-1], color='skyblue')\n",
    "plt.xlabel('Citation Score')\n",
    "plt.title('Top 10 Universities Based on Scores')\n",
    "plt.xlim(0, 100)  # Customize the score range as needed\n",
    "plt.gca().invert_yaxis()  # Reverse the order to show the top university at the top\n",
    "plt.show()"
   ]
  },
  {
   "cell_type": "markdown",
   "metadata": {
    "id": "50_iK6UEe4_D"
   },
   "source": [
    "**Top 10 Universities based on Overall score**"
   ]
  },
  {
   "cell_type": "markdown",
   "metadata": {
    "id": "kZL25JtfBOzT"
   },
   "source": [
    "The term \"Overall Score\" in the context of university rankings refers to a composite score that takes into account various factors and indicators to assess the overall performance and reputation of a university. University rankings are often created by aggregating scores from multiple criteria, such as academic reputation, faculty-to-student ratio, research output, international outlook, teaching quality, and more."
   ]
  },
  {
   "cell_type": "code",
   "execution_count": 278,
   "metadata": {
    "colab": {
     "base_uri": "https://localhost:8080/",
     "height": 424
    },
    "executionInfo": {
     "elapsed": 1333,
     "status": "ok",
     "timestamp": 1701597403924,
     "user": {
      "displayName": "PRIHA BHATTI",
      "userId": "17593611182648033997"
     },
     "user_tz": -300
    },
    "id": "Vm9JM8XBfFWS",
    "outputId": "3f4ac8ed-e57d-42d9-a112-cf24e5fdd57f"
   },
   "outputs": [
    {
     "data": {
      "image/png": "[encoded data removed]",
      "text/plain": [
       "<Figure size 600x400 with 1 Axes>"
      ]
     },
     "metadata": {
      "needs_background": "light"
     },
     "output_type": "display_data"
    }
   ],
   "source": [
    "top_10_universities = data[\"Name of University\"][:10]\n",
    "top_10_scores =data[\"OverAll Score\"][:10]\n",
    "\n",
    "# Create a bar chart for the top 10 universities\n",
    "plt.figure(figsize=(6, 4))\n",
    "plt.barh(top_10_universities[::-1], top_10_scores[::-1], color='red')\n",
    "plt.xlabel('Overall Score')\n",
    "plt.title('Top 10 Universities Based on Scores')\n",
    "plt.xlim(0, 100)  # Customize the score range as needed\n",
    "plt.gca().invert_yaxis()  # Reverse the order to show the top university at the top\n",
    "plt.show()"
   ]
  },
  {
   "cell_type": "markdown",
   "metadata": {
    "id": "Zo0iW_HDf9x5"
   },
   "source": [
    "**Top 10 Universities based on Teaching Score**"
   ]
  },
  {
   "cell_type": "markdown",
   "metadata": {
    "id": "2arBUolCA4sL"
   },
   "source": [
    "The term \"Teaching Score\" in the context of university rankings typically refers to a metric that evaluates the quality of teaching and the overall educational experience provided by a university. It reflects the institution's commitment to effective pedagogy, faculty-student engagement, and the learning environment. The Teaching Score is often used as a component in global university rankings to assess the educational impact and excellence of universities."
   ]
  },
  {
   "cell_type": "code",
   "execution_count": 279,
   "metadata": {
    "colab": {
     "base_uri": "https://localhost:8080/",
     "height": 424
    },
    "executionInfo": {
     "elapsed": 10,
     "status": "ok",
     "timestamp": 1701597403925,
     "user": {
      "displayName": "PRIHA BHATTI",
      "userId": "17593611182648033997"
     },
     "user_tz": -300
    },
    "id": "gqJgi0mTgFpx",
    "outputId": "36c6159a-d00d-4fb0-a213-5f75217fa9f3"
   },
   "outputs": [
    {
     "data": {
      "image/png": "[encoded data removed]",
      "text/plain": [
       "<Figure size 600x400 with 1 Axes>"
      ]
     },
     "metadata": {
      "needs_background": "light"
     },
     "output_type": "display_data"
    }
   ],
   "source": [
    "top_10_universities = data[\"Name of University\"][:10]\n",
    "top_10_scores =data[\"Teaching Score\"][:10]\n",
    "\n",
    "# Create a bar chart for the top 10 universities\n",
    "plt.figure(figsize=(6, 4))\n",
    "plt.barh(top_10_universities[::-1], top_10_scores[::-1], color='pink')\n",
    "plt.xlabel('Teaching Score')\n",
    "plt.title('Top 10 Universities Based on Scores')\n",
    "plt.xlim(0, 100)  # Customize the score range as needed\n",
    "plt.gca().invert_yaxis()  # Reverse the order to show the top university at the top\n",
    "plt.show()"
   ]
  },
  {
   "cell_type": "markdown",
   "metadata": {
    "id": "jmCUPa6wgyvS"
   },
   "source": [
    "**Top 10 Universities based on Industry Income Score**"
   ]
  },
  {
   "cell_type": "markdown",
   "metadata": {
    "id": "r4d-s0KhAsLk"
   },
   "source": [
    "The \"Industry Income Score\" in university rankings typically refers to a metric that assesses a university's ability to attract funding and support from industry partners. It reflects the extent to which a university's research activities contribute to and engage with the industrial sector. The Industry Income Score is often used as a component in global university rankings to evaluate the practical impact and relevance of a university's research and its collaboration with the industry."
   ]
  },
  {
   "cell_type": "code",
   "execution_count": 280,
   "metadata": {
    "colab": {
     "base_uri": "https://localhost:8080/",
     "height": 424
    },
    "executionInfo": {
     "elapsed": 1581,
     "status": "ok",
     "timestamp": 1701597405498,
     "user": {
      "displayName": "PRIHA BHATTI",
      "userId": "17593611182648033997"
     },
     "user_tz": -300
    },
    "id": "lxsC70G6gzWB",
    "outputId": "d2afa982-dd48-4ae1-ba84-35c2b67b085d"
   },
   "outputs": [
    {
     "data": {
      "image/png": "[encoded data removed]",
      "text/plain": [
       "<Figure size 600x400 with 1 Axes>"
      ]
     },
     "metadata": {
      "needs_background": "light"
     },
     "output_type": "display_data"
    }
   ],
   "source": [
    "top_10_universities = data[\"Name of University\"][:10]\n",
    "top_10_scores =data[\"Industry Income Score\"][:10]\n",
    "\n",
    "# Create a bar chart for the top 10 universities\n",
    "plt.figure(figsize=(6, 4))\n",
    "plt.barh(top_10_universities[::-1], top_10_scores[::-1], color='lightgreen')\n",
    "plt.xlabel('Industry Income Score')\n",
    "plt.title('Top 10 Universities Based on Scores')\n",
    "plt.xlim(0, 100)  # Customize the score range as needed\n",
    "plt.gca().invert_yaxis()  # Reverse the order to show the top university at the top\n",
    "plt.show()"
   ]
  },
  {
   "cell_type": "markdown",
   "metadata": {
    "id": "4ARm208g7PZw"
   },
   "source": [
    "**Top 10 Universities based on International Outlook Score**"
   ]
  },
  {
   "cell_type": "markdown",
   "metadata": {
    "id": "rPjxvS2vAb8k"
   },
   "source": [
    "These indicators collectively reflect the level of internationalization and global influence of a university. A higher International Outlook Score indicates that a university is more globally engaged and has a strong international presence.\n",
    "\n",
    "It's important to note that rankings and their components can change over time, and different organizations may use different methodologies to assess international outlook. Always refer to the specific methodology provided by the ranking organization to understand how they calculate the International Outlook Score."
   ]
  },
  {
   "cell_type": "code",
   "execution_count": 281,
   "metadata": {
    "colab": {
     "base_uri": "https://localhost:8080/",
     "height": 424
    },
    "executionInfo": {
     "elapsed": 14,
     "status": "ok",
     "timestamp": 1701597405498,
     "user": {
      "displayName": "PRIHA BHATTI",
      "userId": "17593611182648033997"
     },
     "user_tz": -300
    },
    "id": "0gHKIQfr7Q-Y",
    "outputId": "3d3e9c04-b1d5-44fc-e350-55c138046833"
   },
   "outputs": [
    {
     "data": {
      "image/png": "[encoded data removed]",
      "text/plain": [
       "<Figure size 600x400 with 1 Axes>"
      ]
     },
     "metadata": {
      "needs_background": "light"
     },
     "output_type": "display_data"
    }
   ],
   "source": [
    "top_10_universities = data[\"Name of University\"][:10]\n",
    "top_10_scores =data[\"International Outlook Score\"][:10]\n",
    "\n",
    "# Create a bar chart for the top 10 universities\n",
    "plt.figure(figsize=(6, 4))\n",
    "plt.barh(top_10_universities[::-1], top_10_scores[::-1], color='yellow')\n",
    "plt.xlabel('International Outlook Score')\n",
    "plt.title('Top 10 Universities Based on Scores')\n",
    "plt.xlim(0, 100)  # Customize the score range as needed\n",
    "plt.gca().invert_yaxis()  # Reverse the order to show the top university at the top\n",
    "plt.show()"
   ]
  },
  {
   "cell_type": "markdown",
   "metadata": {
    "id": "6L1PmzvK-TQT"
   },
   "source": [
    "# **CATEGORICAL and CORRELATION**\n",
    "In the context of world university rankings, a heatmap can be utilized to visualize both categorical and correlation aspects. Categorical data would involve discrete attributes of universities, such as geographical regions, academic disciplines, or university types. Each cell in the heatmap would represent a specific combination of these categorical variables, and the color intensity within the cell could indicate relevant metrics like ranking positions, enrollment sizes, or research scores.\n",
    "\n",
    "Correlation in the world university ranking context would involve understanding the linear relationships between quantitative variables, such as academic reputation, faculty-to-student ratios, and research output. A correlation heatmap would display the correlation coefficients between pairs of these numerical variables. The color scale would help identify strong positive correlations, indicating that improvements in one variable align with improvements in another, or strong negative correlations, suggesting an inverse relationship.\n",
    "\n",
    "In summary, a world university ranking heatmap could effectively capture categorical information like regional or disciplinary distinctions among universities, while also revealing correlations between various quantitative metrics influencing their rankings. This integrated approach allows for a more comprehensive exploration of factors contributing to the overall ranking landscape."
   ]
  },
  {
   "cell_type": "code",
   "execution_count": 282,
   "metadata": {
    "executionInfo": {
     "elapsed": 13,
     "status": "ok",
     "timestamp": 1701597405499,
     "user": {
      "displayName": "PRIHA BHATTI",
      "userId": "17593611182648033997"
     },
     "user_tz": -300
    },
    "id": "HIyJ2nvz_Bg6"
   },
   "outputs": [],
   "source": [
    "import matplotlib.pyplot as plt\n",
    "import plotly.express as px\n",
    "import matplotlib\n",
    "%matplotlib inline\n",
    "\n",
    "sns.set_style('darkgrid')\n",
    "matplotlib.rcParams['font.size'] = 14\n",
    "matplotlib.rcParams['figure.figsize'] = (9, 5)\n",
    "matplotlib.rcParams['figure.facecolor'] = '#00000000'"
   ]
  },
  {
   "cell_type": "code",
   "execution_count": 283,
   "metadata": {
    "colab": {
     "base_uri": "https://localhost:8080/",
     "height": 874
    },
    "executionInfo": {
     "elapsed": 1399,
     "status": "ok",
     "timestamp": 1701597406886,
     "user": {
      "displayName": "PRIHA BHATTI",
      "userId": "17593611182648033997"
     },
     "user_tz": -300
    },
    "id": "8BcywAFf_QL5",
    "outputId": "c2360edd-f773-4b0d-90dc-6a652e82bb1c"
   },
   "outputs": [
    {
     "name": "stderr",
     "output_type": "stream",
     "text": [
      "<ipython-input-283-8088f48b69ab>:2: FutureWarning: The default value of numeric_only in DataFrame.corr is deprecated. In a future version, it will default to False. Select only valid columns or specify the value of numeric_only to silence this warning.\n",
      "  sns.heatmap(data.corr(), annot=True)\n"
     ]
    },
    {
     "data": {
      "text/plain": [
       "Text(0.5, 1.0, 'Correlation Graph')"
      ]
     },
     "execution_count": 283,
     "metadata": {},
     "output_type": "execute_result"
    },
    {
     "data": {
      "image/png": "[encoded data removed]",
      "text/plain": [
       "<Figure size 800x600 with 2 Axes>"
      ]
     },
     "metadata": {
      "needs_background": "light"
     },
     "output_type": "display_data"
    }
   ],
   "source": [
    "plt.figure(figsize=(8,6))\n",
    "sns.heatmap(data.corr(), annot=True)\n",
    "plt.title(\"Correlation Graph\", fontweight=\"bold\")"
   ]
  },
  {
   "cell_type": "markdown",
   "metadata": {
    "id": "Q4n1nSas__iP"
   },
   "source": [
    "# **Modelling Data Using Linear Regression & Decission Tree**( Working in Process)\n",
    "Splitting Data Into Training and Testing"
   ]
  },
  {
   "cell_type": "code",
   "execution_count": 284,
   "metadata": {
    "executionInfo": {
     "elapsed": 27,
     "status": "ok",
     "timestamp": 1701597406886,
     "user": {
      "displayName": "PRIHA BHATTI",
      "userId": "17593611182648033997"
     },
     "user_tz": -300
    },
    "id": "yRo0_av5IemQ"
   },
   "outputs": [],
   "source": [
    "from sklearn.compose import ColumnTransformer\n",
    "from sklearn.model_selection import train_test_split\n",
    "from sklearn.preprocessing import LabelEncoder\n",
    "from sklearn.preprocessing import OneHotEncoder\n",
    "from sklearn.tree import DecisionTreeClassifier\n",
    "import math\n",
    "from sklearn.metrics import confusion_matrix\n",
    "from sklearn.model_selection import RandomizedSearchCV, GridSearchCV\n",
    "import seaborn as sb"
   ]
  },
  {
   "cell_type": "code",
   "execution_count": 285,
   "metadata": {
    "colab": {
     "base_uri": "https://localhost:8080/",
     "height": 701
    },
    "executionInfo": {
     "elapsed": 27,
     "status": "ok",
     "timestamp": 1701597406887,
     "user": {
      "displayName": "PRIHA BHATTI",
      "userId": "17593611182648033997"
     },
     "user_tz": -300
    },
    "id": "7kQp_MylIR4n",
    "outputId": "2cc9f117-3b33-44cb-b414-bf1430d0f607"
   },
   "outputs": [
    {
     "data": {
      "text/html": [
       "\n",
       "  <div id=\"df-60a16e9a-ad6c-4ee7-84a9-f74a9810639a\" class=\"colab-df-container\">\n",
       "    <div>\n",
       "<style scoped>\n",
       "    .dataframe tbody tr th:only-of-type {\n",
       "        vertical-align: middle;\n",
       "    }\n",
       "\n",
       "    .dataframe tbody tr th {\n",
       "        vertical-align: top;\n",
       "    }\n",
       "\n",
       "    .dataframe thead th {\n",
       "        text-align: right;\n",
       "    }\n",
       "</style>\n",
       "<table border=\"1\" class=\"dataframe\">\n",
       "  <thead>\n",
       "    <tr style=\"text-align: right;\">\n",
       "      <th></th>\n",
       "      <th>University Rank</th>\n",
       "      <th>Name of University</th>\n",
       "      <th>Country</th>\n",
       "      <th>No of student</th>\n",
       "      <th>No of student per staff</th>\n",
       "      <th>International Student</th>\n",
       "      <th>OverAll Score</th>\n",
       "      <th>Teaching Score</th>\n",
       "      <th>Research Score</th>\n",
       "      <th>Citations Score</th>\n",
       "      <th>Industry Income Score</th>\n",
       "      <th>International Outlook Score</th>\n",
       "    </tr>\n",
       "  </thead>\n",
       "  <tbody>\n",
       "    <tr>\n",
       "      <th>0</th>\n",
       "      <td>1</td>\n",
       "      <td>University of Oxford</td>\n",
       "      <td>United Kingdom</td>\n",
       "      <td>20,965</td>\n",
       "      <td>10.6</td>\n",
       "      <td>0.42</td>\n",
       "      <td>96.4</td>\n",
       "      <td>92.3</td>\n",
       "      <td>99.7</td>\n",
       "      <td>99.0</td>\n",
       "      <td>74.9</td>\n",
       "      <td>96.2</td>\n",
       "    </tr>\n",
       "    <tr>\n",
       "      <th>1</th>\n",
       "      <td>2</td>\n",
       "      <td>Harvard University</td>\n",
       "      <td>United States</td>\n",
       "      <td>21,887</td>\n",
       "      <td>9.6</td>\n",
       "      <td>0.25</td>\n",
       "      <td>95.2</td>\n",
       "      <td>94.8</td>\n",
       "      <td>99.0</td>\n",
       "      <td>99.3</td>\n",
       "      <td>49.5</td>\n",
       "      <td>80.5</td>\n",
       "    </tr>\n",
       "    <tr>\n",
       "      <th>2</th>\n",
       "      <td>3</td>\n",
       "      <td>University of Cambridge</td>\n",
       "      <td>United Kingdom</td>\n",
       "      <td>20,185</td>\n",
       "      <td>11.3</td>\n",
       "      <td>0.39</td>\n",
       "      <td>94.8</td>\n",
       "      <td>90.9</td>\n",
       "      <td>99.5</td>\n",
       "      <td>97.0</td>\n",
       "      <td>54.2</td>\n",
       "      <td>95.8</td>\n",
       "    </tr>\n",
       "    <tr>\n",
       "      <th>3</th>\n",
       "      <td>3</td>\n",
       "      <td>Stanford University</td>\n",
       "      <td>United States</td>\n",
       "      <td>16,164</td>\n",
       "      <td>7.1</td>\n",
       "      <td>0.24</td>\n",
       "      <td>94.8</td>\n",
       "      <td>94.2</td>\n",
       "      <td>96.7</td>\n",
       "      <td>99.8</td>\n",
       "      <td>65.0</td>\n",
       "      <td>79.8</td>\n",
       "    </tr>\n",
       "    <tr>\n",
       "      <th>4</th>\n",
       "      <td>5</td>\n",
       "      <td>Massachusetts Institute of Technology</td>\n",
       "      <td>United States</td>\n",
       "      <td>11,415</td>\n",
       "      <td>8.2</td>\n",
       "      <td>0.33</td>\n",
       "      <td>94.2</td>\n",
       "      <td>90.7</td>\n",
       "      <td>93.6</td>\n",
       "      <td>99.8</td>\n",
       "      <td>90.9</td>\n",
       "      <td>89.3</td>\n",
       "    </tr>\n",
       "    <tr>\n",
       "      <th>...</th>\n",
       "      <td>...</td>\n",
       "      <td>...</td>\n",
       "      <td>...</td>\n",
       "      <td>...</td>\n",
       "      <td>...</td>\n",
       "      <td>...</td>\n",
       "      <td>...</td>\n",
       "      <td>...</td>\n",
       "      <td>...</td>\n",
       "      <td>...</td>\n",
       "      <td>...</td>\n",
       "      <td>...</td>\n",
       "    </tr>\n",
       "    <tr>\n",
       "      <th>1692</th>\n",
       "      <td>1501+</td>\n",
       "      <td>Wrocław University of Science and Technology</td>\n",
       "      <td>Poland</td>\n",
       "      <td>23,657</td>\n",
       "      <td>20.3</td>\n",
       "      <td>0.06</td>\n",
       "      <td>10418.3</td>\n",
       "      <td>17.9</td>\n",
       "      <td>16.0</td>\n",
       "      <td>14.9</td>\n",
       "      <td>45.5</td>\n",
       "      <td>27.3</td>\n",
       "    </tr>\n",
       "    <tr>\n",
       "      <th>1693</th>\n",
       "      <td>1501+</td>\n",
       "      <td>Yamaguchi University</td>\n",
       "      <td>Japan</td>\n",
       "      <td>10,724</td>\n",
       "      <td>11.1</td>\n",
       "      <td>0.07</td>\n",
       "      <td>10418.3</td>\n",
       "      <td>21.3</td>\n",
       "      <td>12.3</td>\n",
       "      <td>13.9</td>\n",
       "      <td>43.8</td>\n",
       "      <td>30.4</td>\n",
       "    </tr>\n",
       "    <tr>\n",
       "      <th>1694</th>\n",
       "      <td>1501+</td>\n",
       "      <td>Yanshan University</td>\n",
       "      <td>China</td>\n",
       "      <td>38,649</td>\n",
       "      <td>13.2</td>\n",
       "      <td>0.01</td>\n",
       "      <td>10418.3</td>\n",
       "      <td>17.2</td>\n",
       "      <td>10.9</td>\n",
       "      <td>18.3</td>\n",
       "      <td>46.9</td>\n",
       "      <td>17.0</td>\n",
       "    </tr>\n",
       "    <tr>\n",
       "      <th>1695</th>\n",
       "      <td>1501+</td>\n",
       "      <td>Yeditepe University</td>\n",
       "      <td>Turkey</td>\n",
       "      <td>17,038</td>\n",
       "      <td>28.2</td>\n",
       "      <td>0.05</td>\n",
       "      <td>10418.3</td>\n",
       "      <td>18.8</td>\n",
       "      <td>12.2</td>\n",
       "      <td>10.5</td>\n",
       "      <td>65.7</td>\n",
       "      <td>29.6</td>\n",
       "    </tr>\n",
       "    <tr>\n",
       "      <th>1696</th>\n",
       "      <td>1501+</td>\n",
       "      <td>Zonguldak Bülent Ecevit University</td>\n",
       "      <td>Turkey</td>\n",
       "      <td>28,319</td>\n",
       "      <td>25.4</td>\n",
       "      <td>0.08</td>\n",
       "      <td>10418.3</td>\n",
       "      <td>13.2</td>\n",
       "      <td>8.2</td>\n",
       "      <td>23.5</td>\n",
       "      <td>38.9</td>\n",
       "      <td>23.1</td>\n",
       "    </tr>\n",
       "  </tbody>\n",
       "</table>\n",
       "<p>1488 rows × 12 columns</p>\n",
       "</div>\n",
       "    <div class=\"colab-df-buttons\">\n",
       "\n",
       "  <div class=\"colab-df-container\">\n",
       "    <button class=\"colab-df-convert\" onclick=\"convertToInteractive('df-60a16e9a-ad6c-4ee7-84a9-f74a9810639a')\"\n",
       "            title=\"Convert this dataframe to an interactive table.\"\n",
       "            style=\"display:none;\">\n",
       "\n",
       "  <svg xmlns=\"http://www.w3.org/2000/svg\" height=\"24px\" viewBox=\"0 -960 960 960\">\n",
       "    <path d=\"M120-120v-720h720v720H120Zm60-500h600v-160H180v160Zm220 220h160v-160H400v160Zm0 220h160v-160H400v160ZM180-400h160v-160H180v160Zm440 0h160v-160H620v160ZM180-180h160v-160H180v160Zm440 0h160v-160H620v160Z\"/>\n",
       "  </svg>\n",
       "    </button>\n",
       "\n",
       "  <style>\n",
       "    .colab-df-container {\n",
       "      display:flex;\n",
       "      gap: 12px;\n",
       "    }\n",
       "\n",
       "    .colab-df-convert {\n",
       "      background-color: #E8F0FE;\n",
       "      border: none;\n",
       "      border-radius: 50%;\n",
       "      cursor: pointer;\n",
       "      display: none;\n",
       "      fill: #1967D2;\n",
       "      height: 32px;\n",
       "      padding: 0 0 0 0;\n",
       "      width: 32px;\n",
       "    }\n",
       "\n",
       "    .colab-df-convert:hover {\n",
       "      background-color: #E2EBFA;\n",
       "      box-shadow: 0px 1px 2px rgba(60, 64, 67, 0.3), 0px 1px 3px 1px rgba(60, 64, 67, 0.15);\n",
       "      fill: #174EA6;\n",
       "    }\n",
       "\n",
       "    .colab-df-buttons div {\n",
       "      margin-bottom: 4px;\n",
       "    }\n",
       "\n",
       "    [theme=dark] .colab-df-convert {\n",
       "      background-color: #3B4455;\n",
       "      fill: #D2E3FC;\n",
       "    }\n",
       "\n",
       "    [theme=dark] .colab-df-convert:hover {\n",
       "      background-color: #434B5C;\n",
       "      box-shadow: 0px 1px 3px 1px rgba(0, 0, 0, 0.15);\n",
       "      filter: drop-shadow(0px 1px 2px rgba(0, 0, 0, 0.3));\n",
       "      fill: #FFFFFF;\n",
       "    }\n",
       "  </style>\n",
       "\n",
       "    <script>\n",
       "      const buttonEl =\n",
       "        document.querySelector('#df-60a16e9a-ad6c-4ee7-84a9-f74a9810639a button.colab-df-convert');\n",
       "      buttonEl.style.display =\n",
       "        google.colab.kernel.accessAllowed ? 'block' : 'none';\n",
       "\n",
       "      async function convertToInteractive(key) {\n",
       "        const element = document.querySelector('#df-60a16e9a-ad6c-4ee7-84a9-f74a9810639a');\n",
       "        const dataTable =\n",
       "          await google.colab.kernel.invokeFunction('convertToInteractive',\n",
       "                                                    [key], {});\n",
       "        if (!dataTable) return;\n",
       "\n",
       "        const docLinkHtml = 'Like what you see? Visit the ' +\n",
       "          '<a target=\"_blank\" href=https://colab.research.google.com/notebooks/data_table.ipynb>data table notebook</a>'\n",
       "          + ' to learn more about interactive tables.';\n",
       "        element.innerHTML = '';\n",
       "        dataTable['output_type'] = 'display_data';\n",
       "        await google.colab.output.renderOutput(dataTable, element);\n",
       "        const docLink = document.createElement('div');\n",
       "        docLink.innerHTML = docLinkHtml;\n",
       "        element.appendChild(docLink);\n",
       "      }\n",
       "    </script>\n",
       "  </div>\n",
       "\n",
       "\n",
       "<div id=\"df-87675ab9-10e1-4755-bb26-4ab8fc756c0d\">\n",
       "  <button class=\"colab-df-quickchart\" onclick=\"quickchart('df-87675ab9-10e1-4755-bb26-4ab8fc756c0d')\"\n",
       "            title=\"Suggest charts\"\n",
       "            style=\"display:none;\">\n",
       "\n",
       "<svg xmlns=\"http://www.w3.org/2000/svg\" height=\"24px\"viewBox=\"0 0 24 24\"\n",
       "     width=\"24px\">\n",
       "    <g>\n",
       "        <path d=\"M19 3H5c-1.1 0-2 .9-2 2v14c0 1.1.9 2 2 2h14c1.1 0 2-.9 2-2V5c0-1.1-.9-2-2-2zM9 17H7v-7h2v7zm4 0h-2V7h2v10zm4 0h-2v-4h2v4z\"/>\n",
       "    </g>\n",
       "</svg>\n",
       "  </button>\n",
       "\n",
       "<style>\n",
       "  .colab-df-quickchart {\n",
       "      --bg-color: #E8F0FE;\n",
       "      --fill-color: #1967D2;\n",
       "      --hover-bg-color: #E2EBFA;\n",
       "      --hover-fill-color: #174EA6;\n",
       "      --disabled-fill-color: #AAA;\n",
       "      --disabled-bg-color: #DDD;\n",
       "  }\n",
       "\n",
       "  [theme=dark] .colab-df-quickchart {\n",
       "      --bg-color: #3B4455;\n",
       "      --fill-color: #D2E3FC;\n",
       "      --hover-bg-color: #434B5C;\n",
       "      --hover-fill-color: #FFFFFF;\n",
       "      --disabled-bg-color: #3B4455;\n",
       "      --disabled-fill-color: #666;\n",
       "  }\n",
       "\n",
       "  .colab-df-quickchart {\n",
       "    background-color: var(--bg-color);\n",
       "    border: none;\n",
       "    border-radius: 50%;\n",
       "    cursor: pointer;\n",
       "    display: none;\n",
       "    fill: var(--fill-color);\n",
       "    height: 32px;\n",
       "    padding: 0;\n",
       "    width: 32px;\n",
       "  }\n",
       "\n",
       "  .colab-df-quickchart:hover {\n",
       "    background-color: var(--hover-bg-color);\n",
       "    box-shadow: 0 1px 2px rgba(60, 64, 67, 0.3), 0 1px 3px 1px rgba(60, 64, 67, 0.15);\n",
       "    fill: var(--button-hover-fill-color);\n",
       "  }\n",
       "\n",
       "  .colab-df-quickchart-complete:disabled,\n",
       "  .colab-df-quickchart-complete:disabled:hover {\n",
       "    background-color: var(--disabled-bg-color);\n",
       "    fill: var(--disabled-fill-color);\n",
       "    box-shadow: none;\n",
       "  }\n",
       "\n",
       "  .colab-df-spinner {\n",
       "    border: 2px solid var(--fill-color);\n",
       "    border-color: transparent;\n",
       "    border-bottom-color: var(--fill-color);\n",
       "    animation:\n",
       "      spin 1s steps(1) infinite;\n",
       "  }\n",
       "\n",
       "  @keyframes spin {\n",
       "    0% {\n",
       "      border-color: transparent;\n",
       "      border-bottom-color: var(--fill-color);\n",
       "      border-left-color: var(--fill-color);\n",
       "    }\n",
       "    20% {\n",
       "      border-color: transparent;\n",
       "      border-left-color: var(--fill-color);\n",
       "      border-top-color: var(--fill-color);\n",
       "    }\n",
       "    30% {\n",
       "      border-color: transparent;\n",
       "      border-left-color: var(--fill-color);\n",
       "      border-top-color: var(--fill-color);\n",
       "      border-right-color: var(--fill-color);\n",
       "    }\n",
       "    40% {\n",
       "      border-color: transparent;\n",
       "      border-right-color: var(--fill-color);\n",
       "      border-top-color: var(--fill-color);\n",
       "    }\n",
       "    60% {\n",
       "      border-color: transparent;\n",
       "      border-right-color: var(--fill-color);\n",
       "    }\n",
       "    80% {\n",
       "      border-color: transparent;\n",
       "      border-right-color: var(--fill-color);\n",
       "      border-bottom-color: var(--fill-color);\n",
       "    }\n",
       "    90% {\n",
       "      border-color: transparent;\n",
       "      border-bottom-color: var(--fill-color);\n",
       "    }\n",
       "  }\n",
       "</style>\n",
       "\n",
       "  <script>\n",
       "    async function quickchart(key) {\n",
       "      const quickchartButtonEl =\n",
       "        document.querySelector('#' + key + ' button');\n",
       "      quickchartButtonEl.disabled = true;  // To prevent multiple clicks.\n",
       "      quickchartButtonEl.classList.add('colab-df-spinner');\n",
       "      try {\n",
       "        const charts = await google.colab.kernel.invokeFunction(\n",
       "            'suggestCharts', [key], {});\n",
       "      } catch (error) {\n",
       "        console.error('Error during call to suggestCharts:', error);\n",
       "      }\n",
       "      quickchartButtonEl.classList.remove('colab-df-spinner');\n",
       "      quickchartButtonEl.classList.add('colab-df-quickchart-complete');\n",
       "    }\n",
       "    (() => {\n",
       "      let quickchartButtonEl =\n",
       "        document.querySelector('#df-87675ab9-10e1-4755-bb26-4ab8fc756c0d button');\n",
       "      quickchartButtonEl.style.display =\n",
       "        google.colab.kernel.accessAllowed ? 'block' : 'none';\n",
       "    })();\n",
       "  </script>\n",
       "</div>\n",
       "    </div>\n",
       "  </div>\n"
      ],
      "text/plain": [
       "     University Rank                            Name of University  \\\n",
       "0                  1                          University of Oxford   \n",
       "1                  2                            Harvard University   \n",
       "2                  3                       University of Cambridge   \n",
       "3                  3                           Stanford University   \n",
       "4                  5         Massachusetts Institute of Technology   \n",
       "...              ...                                           ...   \n",
       "1692           1501+  Wrocław University of Science and Technology   \n",
       "1693           1501+                          Yamaguchi University   \n",
       "1694           1501+                            Yanshan University   \n",
       "1695           1501+                           Yeditepe University   \n",
       "1696           1501+            Zonguldak Bülent Ecevit University   \n",
       "\n",
       "             Country No of student  No of student per staff  \\\n",
       "0     United Kingdom        20,965                     10.6   \n",
       "1      United States        21,887                      9.6   \n",
       "2     United Kingdom        20,185                     11.3   \n",
       "3      United States        16,164                      7.1   \n",
       "4      United States        11,415                      8.2   \n",
       "...              ...           ...                      ...   \n",
       "1692          Poland        23,657                     20.3   \n",
       "1693           Japan        10,724                     11.1   \n",
       "1694           China        38,649                     13.2   \n",
       "1695          Turkey        17,038                     28.2   \n",
       "1696          Turkey        28,319                     25.4   \n",
       "\n",
       "      International Student  OverAll Score  Teaching Score  Research Score  \\\n",
       "0                      0.42           96.4            92.3            99.7   \n",
       "1                      0.25           95.2            94.8            99.0   \n",
       "2                      0.39           94.8            90.9            99.5   \n",
       "3                      0.24           94.8            94.2            96.7   \n",
       "4                      0.33           94.2            90.7            93.6   \n",
       "...                     ...            ...             ...             ...   \n",
       "1692                   0.06        10418.3            17.9            16.0   \n",
       "1693                   0.07        10418.3            21.3            12.3   \n",
       "1694                   0.01        10418.3            17.2            10.9   \n",
       "1695                   0.05        10418.3            18.8            12.2   \n",
       "1696                   0.08        10418.3            13.2             8.2   \n",
       "\n",
       "      Citations Score  Industry Income Score  International Outlook Score  \n",
       "0                99.0                   74.9                         96.2  \n",
       "1                99.3                   49.5                         80.5  \n",
       "2                97.0                   54.2                         95.8  \n",
       "3                99.8                   65.0                         79.8  \n",
       "4                99.8                   90.9                         89.3  \n",
       "...               ...                    ...                          ...  \n",
       "1692             14.9                   45.5                         27.3  \n",
       "1693             13.9                   43.8                         30.4  \n",
       "1694             18.3                   46.9                         17.0  \n",
       "1695             10.5                   65.7                         29.6  \n",
       "1696             23.5                   38.9                         23.1  \n",
       "\n",
       "[1488 rows x 12 columns]"
      ]
     },
     "execution_count": 285,
     "metadata": {},
     "output_type": "execute_result"
    }
   ],
   "source": [
    "data"
   ]
  },
  {
   "cell_type": "code",
   "execution_count": 286,
   "metadata": {
    "executionInfo": {
     "elapsed": 25,
     "status": "ok",
     "timestamp": 1701597406887,
     "user": {
      "displayName": "PRIHA BHATTI",
      "userId": "17593611182648033997"
     },
     "user_tz": -300
    },
    "id": "Tmqw363j-I8A"
   },
   "outputs": [],
   "source": [
    "# Function to calculate mid-value from a range string\n",
    "def calculate_mid_value(range_str):\n",
    "    # Replace non-standard hyphen with the standard hyphen\n",
    "    range_str = range_str.replace('–', '-')\n",
    "\n",
    "    # Split the range string into lower and upper bounds\n",
    "    range_values = range_str.split('-')\n",
    "\n",
    "    if len(range_values) == 2:\n",
    "        lower, upper = map(float, range_values)\n",
    "        # Calculate the mid-value\n",
    "        mid_value = (lower + upper) / 2\n",
    "        return mid_value\n",
    "    else:\n",
    "        # Return the original value for invalid formats\n",
    "        return range_str"
   ]
  },
  {
   "cell_type": "code",
   "execution_count": 287,
   "metadata": {
    "colab": {
     "base_uri": "https://localhost:8080/"
    },
    "executionInfo": {
     "elapsed": 25,
     "status": "ok",
     "timestamp": 1701597406887,
     "user": {
      "displayName": "PRIHA BHATTI",
      "userId": "17593611182648033997"
     },
     "user_tz": -300
    },
    "id": "VbTZCXDD2dd3",
    "outputId": "ee0b8f4d-50ec-4a76-e5b7-5838ee168a7b"
   },
   "outputs": [
    {
     "name": "stderr",
     "output_type": "stream",
     "text": [
      "<ipython-input-287-e474231a30a3>:3: FutureWarning: The default value of numeric_only in DataFrame.mean is deprecated. In a future version, it will default to False. In addition, specifying 'numeric_only=None' is deprecated. Select only valid columns or specify the value of numeric_only to silence this warning.\n",
      "  data[restColToFillMean] = data[restColToFillMean].fillna(data[restColToFillMean].mean())\n"
     ]
    }
   ],
   "source": [
    "data.isna().sum()\n",
    "restColToFillMean = ['No of student', 'International Student', 'OverAll Score']\n",
    "data[restColToFillMean] = data[restColToFillMean].fillna(data[restColToFillMean].mean())"
   ]
  },
  {
   "cell_type": "code",
   "execution_count": 288,
   "metadata": {
    "colab": {
     "base_uri": "https://localhost:8080/"
    },
    "executionInfo": {
     "elapsed": 22,
     "status": "ok",
     "timestamp": 1701597406887,
     "user": {
      "displayName": "PRIHA BHATTI",
      "userId": "17593611182648033997"
     },
     "user_tz": -300
    },
    "id": "0kK6V0gd2kEv",
    "outputId": "7633523f-b142-4295-9aa8-121d7b27b1e0"
   },
   "outputs": [
    {
     "data": {
      "text/plain": [
       "University Rank                0\n",
       "Name of University             0\n",
       "Country                        0\n",
       "No of student                  0\n",
       "No of student per staff        0\n",
       "International Student          0\n",
       "OverAll Score                  0\n",
       "Teaching Score                 0\n",
       "Research Score                 0\n",
       "Citations Score                0\n",
       "Industry Income Score          0\n",
       "International Outlook Score    0\n",
       "dtype: int64"
      ]
     },
     "execution_count": 288,
     "metadata": {},
     "output_type": "execute_result"
    }
   ],
   "source": [
    "data.isna().sum()"
   ]
  },
  {
   "cell_type": "code",
   "execution_count": 289,
   "metadata": {
    "colab": {
     "base_uri": "https://localhost:8080/"
    },
    "executionInfo": {
     "elapsed": 21,
     "status": "ok",
     "timestamp": 1701597406888,
     "user": {
      "displayName": "PRIHA BHATTI",
      "userId": "17593611182648033997"
     },
     "user_tz": -300
    },
    "id": "JYwmr9zpK7zB",
    "outputId": "577fd66c-6b1a-4cee-e5c3-1fe3cbcbe627"
   },
   "outputs": [
    {
     "name": "stdout",
     "output_type": "stream",
     "text": [
      "X_train shape: (1190, 4)\n",
      "X_test shape: (298, 4)\n",
      "y_train shape: (1190,)\n",
      "y_test shape: (298,)\n"
     ]
    }
   ],
   "source": [
    "X = data.drop(columns=['Country','Name of University','OverAll Score','Teaching Score','Research Score','Citations Score','Industry Income Score','International Outlook Score'])\n",
    "y = data['University Rank']\n",
    "X_train, X_test, y_train, y_test = train_test_split(X, y, test_size=0.2, random_state=42)\n",
    "# Display the shapes of the resulting datasets\n",
    "print(\"X_train shape:\", X_train.shape)\n",
    "print(\"X_test shape:\", X_test.shape)\n",
    "print(\"y_train shape:\", y_train.shape)\n",
    "print(\"y_test shape:\", y_test.shape)"
   ]
  },
  {
   "cell_type": "code",
   "execution_count": 290,
   "metadata": {
    "executionInfo": {
     "elapsed": 19,
     "status": "ok",
     "timestamp": 1701597406888,
     "user": {
      "displayName": "PRIHA BHATTI",
      "userId": "17593611182648033997"
     },
     "user_tz": -300
    },
    "id": "EBSyrhpb-2MH"
   },
   "outputs": [],
   "source": [
    "X_train=X_train.fillna(2)\n",
    "X_test=X_test.fillna(2)\n",
    "y_train=y_train.fillna(2)\n",
    "y_test=y_test.fillna(2)"
   ]
  },
  {
   "cell_type": "code",
   "execution_count": 291,
   "metadata": {
    "colab": {
     "base_uri": "https://localhost:8080/",
     "height": 75
    },
    "executionInfo": {
     "elapsed": 18,
     "status": "ok",
     "timestamp": 1701597406888,
     "user": {
      "displayName": "PRIHA BHATTI",
      "userId": "17593611182648033997"
     },
     "user_tz": -300
    },
    "id": "_i-ypOFoqx0u",
    "outputId": "a37910ab-d900-4d52-bfef-6883dc677262"
   },
   "outputs": [
    {
     "data": {
      "text/html": [
       "<style>#sk-container-id-7 {color: black;background-color: white;}#sk-container-id-7 pre{padding: 0;}#sk-container-id-7 div.sk-toggleable {background-color: white;}#sk-container-id-7 label.sk-toggleable__label {cursor: pointer;display: block;width: 100%;margin-bottom: 0;padding: 0.3em;box-sizing: border-box;text-align: center;}#sk-container-id-7 label.sk-toggleable__label-arrow:before {content: \"▸\";float: left;margin-right: 0.25em;color: #696969;}#sk-container-id-7 label.sk-toggleable__label-arrow:hover:before {color: black;}#sk-container-id-7 div.sk-estimator:hover label.sk-toggleable__label-arrow:before {color: black;}#sk-container-id-7 div.sk-toggleable__content {max-height: 0;max-width: 0;overflow: hidden;text-align: left;background-color: #f0f8ff;}#sk-container-id-7 div.sk-toggleable__content pre {margin: 0.2em;color: black;border-radius: 0.25em;background-color: #f0f8ff;}#sk-container-id-7 input.sk-toggleable__control:checked~div.sk-toggleable__content {max-height: 200px;max-width: 100%;overflow: auto;}#sk-container-id-7 input.sk-toggleable__control:checked~label.sk-toggleable__label-arrow:before {content: \"▾\";}#sk-container-id-7 div.sk-estimator input.sk-toggleable__control:checked~label.sk-toggleable__label {background-color: #d4ebff;}#sk-container-id-7 div.sk-label input.sk-toggleable__control:checked~label.sk-toggleable__label {background-color: #d4ebff;}#sk-container-id-7 input.sk-hidden--visually {border: 0;clip: rect(1px 1px 1px 1px);clip: rect(1px, 1px, 1px, 1px);height: 1px;margin: -1px;overflow: hidden;padding: 0;position: absolute;width: 1px;}#sk-container-id-7 div.sk-estimator {font-family: monospace;background-color: #f0f8ff;border: 1px dotted black;border-radius: 0.25em;box-sizing: border-box;margin-bottom: 0.5em;}#sk-container-id-7 div.sk-estimator:hover {background-color: #d4ebff;}#sk-container-id-7 div.sk-parallel-item::after {content: \"\";width: 100%;border-bottom: 1px solid gray;flex-grow: 1;}#sk-container-id-7 div.sk-label:hover label.sk-toggleable__label {background-color: #d4ebff;}#sk-container-id-7 div.sk-serial::before {content: \"\";position: absolute;border-left: 1px solid gray;box-sizing: border-box;top: 0;bottom: 0;left: 50%;z-index: 0;}#sk-container-id-7 div.sk-serial {display: flex;flex-direction: column;align-items: center;background-color: white;padding-right: 0.2em;padding-left: 0.2em;position: relative;}#sk-container-id-7 div.sk-item {position: relative;z-index: 1;}#sk-container-id-7 div.sk-parallel {display: flex;align-items: stretch;justify-content: center;background-color: white;position: relative;}#sk-container-id-7 div.sk-item::before, #sk-container-id-7 div.sk-parallel-item::before {content: \"\";position: absolute;border-left: 1px solid gray;box-sizing: border-box;top: 0;bottom: 0;left: 50%;z-index: -1;}#sk-container-id-7 div.sk-parallel-item {display: flex;flex-direction: column;z-index: 1;position: relative;background-color: white;}#sk-container-id-7 div.sk-parallel-item:first-child::after {align-self: flex-end;width: 50%;}#sk-container-id-7 div.sk-parallel-item:last-child::after {align-self: flex-start;width: 50%;}#sk-container-id-7 div.sk-parallel-item:only-child::after {width: 0;}#sk-container-id-7 div.sk-dashed-wrapped {border: 1px dashed gray;margin: 0 0.4em 0.5em 0.4em;box-sizing: border-box;padding-bottom: 0.4em;background-color: white;}#sk-container-id-7 div.sk-label label {font-family: monospace;font-weight: bold;display: inline-block;line-height: 1.2em;}#sk-container-id-7 div.sk-label-container {text-align: center;}#sk-container-id-7 div.sk-container {/* jupyter's `normalize.less` sets `[hidden] { display: none; }` but bootstrap.min.css set `[hidden] { display: none !important; }` so we also need the `!important` here to be able to override the default hidden behavior on the sphinx rendered scikit-learn.org. See: https://github.com/scikit-learn/scikit-learn/issues/21755 */display: inline-block !important;position: relative;}#sk-container-id-7 div.sk-text-repr-fallback {display: none;}</style><div id=\"sk-container-id-7\" class=\"sk-top-container\"><div class=\"sk-text-repr-fallback\"><pre>DecisionTreeClassifier(criterion=&#x27;entropy&#x27;)</pre><b>In a Jupyter environment, please rerun this cell to show the HTML representation or trust the notebook. <br />On GitHub, the HTML representation is unable to render, please try loading this page with nbviewer.org.</b></div><div class=\"sk-container\" hidden><div class=\"sk-item\"><div class=\"sk-estimator sk-toggleable\"><input class=\"sk-toggleable__control sk-hidden--visually\" id=\"sk-estimator-id-7\" type=\"checkbox\" checked><label for=\"sk-estimator-id-7\" class=\"sk-toggleable__label sk-toggleable__label-arrow\">DecisionTreeClassifier</label><div class=\"sk-toggleable__content\"><pre>DecisionTreeClassifier(criterion=&#x27;entropy&#x27;)</pre></div></div></div></div></div>"
      ],
      "text/plain": [
       "DecisionTreeClassifier(criterion='entropy')"
      ]
     },
     "execution_count": 291,
     "metadata": {},
     "output_type": "execute_result"
    }
   ],
   "source": [
    "model = DecisionTreeClassifier(criterion = 'entropy')\n",
    "model\n"
   ]
  },
  {
   "cell_type": "markdown",
   "metadata": {
    "id": "nMOt1HYH2Pi6"
   },
   "source": []
  }
 ],
 "metadata": {
  "colab": {
   "authorship_tag": "ABX9TyNTrjnum6adClws7L5ld8ku",
   "mount_file_id": "1lTS7N60DLtJRk9Is9wR7fSEuPBjNt1qN",
   "provenance": [
    {
     "file_id": "1lTS7N60DLtJRk9Is9wR7fSEuPBjNt1qN",
     "timestamp": 1701597631367
    }
   ]
  },
  "kernelspec": {
   "display_name": "Python 3 (ipykernel)",
   "language": "python",
   "name": "python3"
  },
  "language_info": {
   "codemirror_mode": {
    "name": "ipython",
    "version": 3
   },
   "file_extension": ".py",
   "mimetype": "text/x-python",
   "name": "python",
   "nbconvert_exporter": "python",
   "pygments_lexer": "ipython3",
   "version": "3.12.0"
  }
 },
 "nbformat": 4,
 "nbformat_minor": 4
}
